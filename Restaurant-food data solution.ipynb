{
 "cells": [
  {
   "cell_type": "markdown",
   "id": "802caeae",
   "metadata": {},
   "source": [
    "## Osman Dolu"
   ]
  },
  {
   "cell_type": "markdown",
   "id": "a5bbc156",
   "metadata": {},
   "source": [
    "### Technical challenge: Data Scientist\n",
    "\n",
    "**The challenge**\n",
    "\n",
    "You are given a dataset (assets/dataset.zip) containing information about restaurants all over Europe. The goal of the challenge is to make sense of the dataset and understand it in such a way that informed, data-based business decisions can be made. To make things easier, the challenge is split into three conceptually independent parts, with action points at each part. \n",
    "\n",
    "**Data cleaning**\n",
    "1.\tIdentify the columns with mixed data types.\n",
    "2.\tFor each column, count the number of rows per data type.\n",
    "3.\tWould removing missing values solve the mixed data type problem?\n",
    "\n",
    "**Data understanding**\n",
    "\n",
    "1.\tAre the review columns correlated with the rating columns? \n",
    "●\tReview columns: [\"excellent\", \"very_good\", \"average\", \"poor\", \"terrible\", \"total_reviews_count\", \"reviews_count_in_default_language\"]\n",
    "●\tRating columns: [\"food\", \"service\", \"value\", \"atmosphere\", \"avg_rating\"]\n",
    "2.\tAre vegetarian-friendly restaurants better than non-vegetarian ones?\n",
    "3.\tAre there any significantly more expensive cuisines?\n",
    "\n",
    "**Business-specific**\n",
    "\n",
    "1.\tIn the assets directory, you will see a very small dataset called europe_capitals_population_and_area.csv. A gluten-free restaurant wants to open a new restaurant in a European capital where gluten-free restaurants are underrepresented. Assuming there are no other factors, except population and gluten-free restaurant density, what would be the top 5 capitals to open that restaurant?\n",
    "2.\tThink and propose a couple of other ways this dataset could be used to help businesses.\n",
    "\n",
    "\n",
    "**Bonus**\n",
    "\n",
    "1.\tIn the assets directory, you will see a file called paris_bounding_polygon.json. This contains a list of latitude and longitude coordinates that define a polygon that is considered to represent the Paris city area. For simplicity, we assume the population distribution is uniform in the Paris city area. An Italian restaurant wants to open a restaurant in Paris in a zone where there are the fewest Italian restaurants. What is the best location to open the restaurant (the answer can be a single point or a bounding box/polygonal region depending on the implementation)?\n",
    "\n",
    "**Delivering the solution**\n",
    "\n",
    "●\tCreate a GitHub repository for the solution;\n",
    "●\tFor each action point, create a separate commit (or multiple commits if the action point requires);\n",
    "●\tKeep in mind that notebook cells should contain relevant output;\n",
    "●\tAfter finishing the challenge, make sure to add us as collaborators to the repository.\n",
    "\n",
    "**Timeline**\n",
    "\n",
    "●\tThe challenge should be completed between 4-6 hours.\n",
    "●\tIt is a bonus if you can finish it in a single day.\n",
    "●\tIf you can not finish in a single day, you can split the work into two days, but please have continuity (if you do not finish the first day, please continue the second morning).\n",
    "\n",
    "\n",
    "**Things to consider**\n",
    "\n",
    "●\tIt's great if you manage to cover all the action points in the given time period, but we'll also pay attention to the following:\n",
    "○\thow was the data analyzed;\n",
    "○\thow were hypotheses defined;\n",
    "○\twhat techniques were used in order to validate/invalidate hypotheses;\n",
    "○\thow were the corresponding conclusions/findings presented (they should be clear, interpretable, and relevant)\n",
    "●\tCode quality, correctness, performance\n",
    "\n",
    "\n",
    "Good luck! 🧑‍💻\n"
   ]
  },
  {
   "cell_type": "markdown",
   "id": "301b96fc",
   "metadata": {},
   "source": [
    "### Importing Necessary Libraries"
   ]
  },
  {
   "cell_type": "code",
   "execution_count": 534,
   "id": "914408fe",
   "metadata": {
    "ExecuteTime": {
     "end_time": "2023-01-10T23:17:35.736211Z",
     "start_time": "2023-01-10T23:17:35.730218Z"
    }
   },
   "outputs": [],
   "source": [
    "import pandas as pd\n",
    "import numpy as np\n",
    "import matplotlib as plt\n",
    "import seaborn as sns\n",
    "\n",
    "import scipy\n",
    "from scipy import stats\n",
    "from scipy.stats.stats import pearsonr\n",
    "\n",
    "# Set it to None to display ALL columns in the dataframe\n",
    "pd.set_option('display.max_columns', None)\n",
    "pd.set_option('display.max_seq_items', None)\n",
    "\n",
    "import warnings\n",
    "# Suppressing a warning \n",
    "warnings.filterwarnings(\"ignore\") \n",
    "warnings.warn(\"this will not show\")\n"
   ]
  },
  {
   "cell_type": "markdown",
   "id": "88787af6",
   "metadata": {},
   "source": [
    "### Loading Dataset\n"
   ]
  },
  {
   "cell_type": "code",
   "execution_count": 535,
   "id": "47089611",
   "metadata": {
    "ExecuteTime": {
     "end_time": "2023-01-10T23:17:46.006524Z",
     "start_time": "2023-01-10T23:17:35.738212Z"
    }
   },
   "outputs": [
    {
     "data": {
      "text/html": [
       "<div>\n",
       "<style scoped>\n",
       "    .dataframe tbody tr th:only-of-type {\n",
       "        vertical-align: middle;\n",
       "    }\n",
       "\n",
       "    .dataframe tbody tr th {\n",
       "        vertical-align: top;\n",
       "    }\n",
       "\n",
       "    .dataframe thead th {\n",
       "        text-align: right;\n",
       "    }\n",
       "</style>\n",
       "<table border=\"1\" class=\"dataframe\">\n",
       "  <thead>\n",
       "    <tr style=\"text-align: right;\">\n",
       "      <th></th>\n",
       "      <th>0</th>\n",
       "      <th>1</th>\n",
       "      <th>2</th>\n",
       "    </tr>\n",
       "  </thead>\n",
       "  <tbody>\n",
       "    <tr>\n",
       "      <th>restaurant_link</th>\n",
       "      <td>g10001637-d10002227</td>\n",
       "      <td>g10001637-d14975787</td>\n",
       "      <td>g10002858-d4586832</td>\n",
       "    </tr>\n",
       "    <tr>\n",
       "      <th>restaurant_name</th>\n",
       "      <td>Le 147</td>\n",
       "      <td>Le Saint Jouvent</td>\n",
       "      <td>Au Bout du Pont</td>\n",
       "    </tr>\n",
       "    <tr>\n",
       "      <th>original_location</th>\n",
       "      <td>[\"Europe\", \"France\", \"Nouvelle-Aquitaine\", \"Ha...</td>\n",
       "      <td>[\"Europe\", \"France\", \"Nouvelle-Aquitaine\", \"Ha...</td>\n",
       "      <td>[\"Europe\", \"France\", \"Centre-Val de Loire\", \"B...</td>\n",
       "    </tr>\n",
       "    <tr>\n",
       "      <th>country</th>\n",
       "      <td>France</td>\n",
       "      <td>France</td>\n",
       "      <td>France</td>\n",
       "    </tr>\n",
       "    <tr>\n",
       "      <th>region</th>\n",
       "      <td>Nouvelle-Aquitaine</td>\n",
       "      <td>Nouvelle-Aquitaine</td>\n",
       "      <td>Centre-Val de Loire</td>\n",
       "    </tr>\n",
       "    <tr>\n",
       "      <th>province</th>\n",
       "      <td>Haute-Vienne</td>\n",
       "      <td>Haute-Vienne</td>\n",
       "      <td>Berry</td>\n",
       "    </tr>\n",
       "    <tr>\n",
       "      <th>city</th>\n",
       "      <td>Saint-Jouvent</td>\n",
       "      <td>Saint-Jouvent</td>\n",
       "      <td>Rivarennes</td>\n",
       "    </tr>\n",
       "    <tr>\n",
       "      <th>address</th>\n",
       "      <td>10 Maison Neuve, 87510 Saint-Jouvent France</td>\n",
       "      <td>16 Place de l Eglise, 87510 Saint-Jouvent France</td>\n",
       "      <td>2 rue des Dames, 36800 Rivarennes France</td>\n",
       "    </tr>\n",
       "    <tr>\n",
       "      <th>latitude</th>\n",
       "      <td>45.961674</td>\n",
       "      <td>45.95704</td>\n",
       "      <td>46.635895</td>\n",
       "    </tr>\n",
       "    <tr>\n",
       "      <th>longitude</th>\n",
       "      <td>1.169131</td>\n",
       "      <td>1.20548</td>\n",
       "      <td>1.386133</td>\n",
       "    </tr>\n",
       "    <tr>\n",
       "      <th>claimed</th>\n",
       "      <td>Claimed</td>\n",
       "      <td>Unclaimed</td>\n",
       "      <td>Claimed</td>\n",
       "    </tr>\n",
       "    <tr>\n",
       "      <th>awards</th>\n",
       "      <td>NaN</td>\n",
       "      <td>NaN</td>\n",
       "      <td>NaN</td>\n",
       "    </tr>\n",
       "    <tr>\n",
       "      <th>popularity_detailed</th>\n",
       "      <td>#1 of 2 Restaurants in Saint-Jouvent</td>\n",
       "      <td>#2 of 2 Restaurants in Saint-Jouvent</td>\n",
       "      <td>#1 of 1 Restaurant in Rivarennes</td>\n",
       "    </tr>\n",
       "    <tr>\n",
       "      <th>popularity_generic</th>\n",
       "      <td>#1 of 2 places to eat in Saint-Jouvent</td>\n",
       "      <td>#2 of 2 places to eat in Saint-Jouvent</td>\n",
       "      <td>#1 of 1 places to eat in Rivarennes</td>\n",
       "    </tr>\n",
       "    <tr>\n",
       "      <th>top_tags</th>\n",
       "      <td>Cheap Eats, French</td>\n",
       "      <td>Cheap Eats</td>\n",
       "      <td>Cheap Eats, French, European</td>\n",
       "    </tr>\n",
       "    <tr>\n",
       "      <th>price_level</th>\n",
       "      <td>€</td>\n",
       "      <td>€</td>\n",
       "      <td>€</td>\n",
       "    </tr>\n",
       "    <tr>\n",
       "      <th>price_range</th>\n",
       "      <td>NaN</td>\n",
       "      <td>NaN</td>\n",
       "      <td>NaN</td>\n",
       "    </tr>\n",
       "    <tr>\n",
       "      <th>meals</th>\n",
       "      <td>Lunch, Dinner</td>\n",
       "      <td>NaN</td>\n",
       "      <td>Dinner, Lunch, Drinks</td>\n",
       "    </tr>\n",
       "    <tr>\n",
       "      <th>cuisines</th>\n",
       "      <td>French</td>\n",
       "      <td>NaN</td>\n",
       "      <td>French, European</td>\n",
       "    </tr>\n",
       "    <tr>\n",
       "      <th>special_diets</th>\n",
       "      <td>NaN</td>\n",
       "      <td>NaN</td>\n",
       "      <td>NaN</td>\n",
       "    </tr>\n",
       "    <tr>\n",
       "      <th>features</th>\n",
       "      <td>Reservations, Seating, Wheelchair Accessible, ...</td>\n",
       "      <td>NaN</td>\n",
       "      <td>Reservations, Seating, Table Service, Wheelcha...</td>\n",
       "    </tr>\n",
       "    <tr>\n",
       "      <th>vegetarian_friendly</th>\n",
       "      <td>N</td>\n",
       "      <td>N</td>\n",
       "      <td>N</td>\n",
       "    </tr>\n",
       "    <tr>\n",
       "      <th>vegan_options</th>\n",
       "      <td>N</td>\n",
       "      <td>N</td>\n",
       "      <td>N</td>\n",
       "    </tr>\n",
       "    <tr>\n",
       "      <th>gluten_free</th>\n",
       "      <td>N</td>\n",
       "      <td>N</td>\n",
       "      <td>N</td>\n",
       "    </tr>\n",
       "    <tr>\n",
       "      <th>original_open_hours</th>\n",
       "      <td>NaN</td>\n",
       "      <td>NaN</td>\n",
       "      <td>NaN</td>\n",
       "    </tr>\n",
       "    <tr>\n",
       "      <th>open_days_per_week</th>\n",
       "      <td>NaN</td>\n",
       "      <td>NaN</td>\n",
       "      <td>NaN</td>\n",
       "    </tr>\n",
       "    <tr>\n",
       "      <th>open_hours_per_week</th>\n",
       "      <td>NaN</td>\n",
       "      <td>NaN</td>\n",
       "      <td>NaN</td>\n",
       "    </tr>\n",
       "    <tr>\n",
       "      <th>working_shifts_per_week</th>\n",
       "      <td>NaN</td>\n",
       "      <td>NaN</td>\n",
       "      <td>NaN</td>\n",
       "    </tr>\n",
       "    <tr>\n",
       "      <th>avg_rating</th>\n",
       "      <td>4.0</td>\n",
       "      <td>4.0</td>\n",
       "      <td>5.0</td>\n",
       "    </tr>\n",
       "    <tr>\n",
       "      <th>total_reviews_count</th>\n",
       "      <td>36.0</td>\n",
       "      <td>5.0</td>\n",
       "      <td>13.0</td>\n",
       "    </tr>\n",
       "    <tr>\n",
       "      <th>default_language</th>\n",
       "      <td>English</td>\n",
       "      <td>All languages</td>\n",
       "      <td>English</td>\n",
       "    </tr>\n",
       "    <tr>\n",
       "      <th>reviews_count_in_default_language</th>\n",
       "      <td>2.0</td>\n",
       "      <td>5.0</td>\n",
       "      <td>4.0</td>\n",
       "    </tr>\n",
       "    <tr>\n",
       "      <th>excellent</th>\n",
       "      <td>2.0</td>\n",
       "      <td>2.0</td>\n",
       "      <td>3.0</td>\n",
       "    </tr>\n",
       "    <tr>\n",
       "      <th>very_good</th>\n",
       "      <td>0.0</td>\n",
       "      <td>2.0</td>\n",
       "      <td>1.0</td>\n",
       "    </tr>\n",
       "    <tr>\n",
       "      <th>average</th>\n",
       "      <td>0.0</td>\n",
       "      <td>1.0</td>\n",
       "      <td>0.0</td>\n",
       "    </tr>\n",
       "    <tr>\n",
       "      <th>poor</th>\n",
       "      <td>0.0</td>\n",
       "      <td>0.0</td>\n",
       "      <td>0.0</td>\n",
       "    </tr>\n",
       "    <tr>\n",
       "      <th>terrible</th>\n",
       "      <td>0.0</td>\n",
       "      <td>0.0</td>\n",
       "      <td>0.0</td>\n",
       "    </tr>\n",
       "    <tr>\n",
       "      <th>food</th>\n",
       "      <td>4.0</td>\n",
       "      <td>NaN</td>\n",
       "      <td>NaN</td>\n",
       "    </tr>\n",
       "    <tr>\n",
       "      <th>service</th>\n",
       "      <td>4.5</td>\n",
       "      <td>NaN</td>\n",
       "      <td>NaN</td>\n",
       "    </tr>\n",
       "    <tr>\n",
       "      <th>value</th>\n",
       "      <td>4.0</td>\n",
       "      <td>NaN</td>\n",
       "      <td>NaN</td>\n",
       "    </tr>\n",
       "    <tr>\n",
       "      <th>atmosphere</th>\n",
       "      <td>NaN</td>\n",
       "      <td>NaN</td>\n",
       "      <td>NaN</td>\n",
       "    </tr>\n",
       "    <tr>\n",
       "      <th>keywords</th>\n",
       "      <td>NaN</td>\n",
       "      <td>NaN</td>\n",
       "      <td>NaN</td>\n",
       "    </tr>\n",
       "  </tbody>\n",
       "</table>\n",
       "</div>"
      ],
      "text/plain": [
       "                                                                                   0  \\\n",
       "restaurant_link                                                  g10001637-d10002227   \n",
       "restaurant_name                                                               Le 147   \n",
       "original_location                  [\"Europe\", \"France\", \"Nouvelle-Aquitaine\", \"Ha...   \n",
       "country                                                                       France   \n",
       "region                                                            Nouvelle-Aquitaine   \n",
       "province                                                                Haute-Vienne   \n",
       "city                                                                   Saint-Jouvent   \n",
       "address                                  10 Maison Neuve, 87510 Saint-Jouvent France   \n",
       "latitude                                                                   45.961674   \n",
       "longitude                                                                   1.169131   \n",
       "claimed                                                                      Claimed   \n",
       "awards                                                                           NaN   \n",
       "popularity_detailed                             #1 of 2 Restaurants in Saint-Jouvent   \n",
       "popularity_generic                            #1 of 2 places to eat in Saint-Jouvent   \n",
       "top_tags                                                          Cheap Eats, French   \n",
       "price_level                                                                        €   \n",
       "price_range                                                                      NaN   \n",
       "meals                                                                  Lunch, Dinner   \n",
       "cuisines                                                                      French   \n",
       "special_diets                                                                    NaN   \n",
       "features                           Reservations, Seating, Wheelchair Accessible, ...   \n",
       "vegetarian_friendly                                                                N   \n",
       "vegan_options                                                                      N   \n",
       "gluten_free                                                                        N   \n",
       "original_open_hours                                                              NaN   \n",
       "open_days_per_week                                                               NaN   \n",
       "open_hours_per_week                                                              NaN   \n",
       "working_shifts_per_week                                                          NaN   \n",
       "avg_rating                                                                       4.0   \n",
       "total_reviews_count                                                             36.0   \n",
       "default_language                                                             English   \n",
       "reviews_count_in_default_language                                                2.0   \n",
       "excellent                                                                        2.0   \n",
       "very_good                                                                        0.0   \n",
       "average                                                                          0.0   \n",
       "poor                                                                             0.0   \n",
       "terrible                                                                         0.0   \n",
       "food                                                                             4.0   \n",
       "service                                                                          4.5   \n",
       "value                                                                            4.0   \n",
       "atmosphere                                                                       NaN   \n",
       "keywords                                                                         NaN   \n",
       "\n",
       "                                                                                   1  \\\n",
       "restaurant_link                                                  g10001637-d14975787   \n",
       "restaurant_name                                                     Le Saint Jouvent   \n",
       "original_location                  [\"Europe\", \"France\", \"Nouvelle-Aquitaine\", \"Ha...   \n",
       "country                                                                       France   \n",
       "region                                                            Nouvelle-Aquitaine   \n",
       "province                                                                Haute-Vienne   \n",
       "city                                                                   Saint-Jouvent   \n",
       "address                             16 Place de l Eglise, 87510 Saint-Jouvent France   \n",
       "latitude                                                                    45.95704   \n",
       "longitude                                                                    1.20548   \n",
       "claimed                                                                    Unclaimed   \n",
       "awards                                                                           NaN   \n",
       "popularity_detailed                             #2 of 2 Restaurants in Saint-Jouvent   \n",
       "popularity_generic                            #2 of 2 places to eat in Saint-Jouvent   \n",
       "top_tags                                                                  Cheap Eats   \n",
       "price_level                                                                        €   \n",
       "price_range                                                                      NaN   \n",
       "meals                                                                            NaN   \n",
       "cuisines                                                                         NaN   \n",
       "special_diets                                                                    NaN   \n",
       "features                                                                         NaN   \n",
       "vegetarian_friendly                                                                N   \n",
       "vegan_options                                                                      N   \n",
       "gluten_free                                                                        N   \n",
       "original_open_hours                                                              NaN   \n",
       "open_days_per_week                                                               NaN   \n",
       "open_hours_per_week                                                              NaN   \n",
       "working_shifts_per_week                                                          NaN   \n",
       "avg_rating                                                                       4.0   \n",
       "total_reviews_count                                                              5.0   \n",
       "default_language                                                       All languages   \n",
       "reviews_count_in_default_language                                                5.0   \n",
       "excellent                                                                        2.0   \n",
       "very_good                                                                        2.0   \n",
       "average                                                                          1.0   \n",
       "poor                                                                             0.0   \n",
       "terrible                                                                         0.0   \n",
       "food                                                                             NaN   \n",
       "service                                                                          NaN   \n",
       "value                                                                            NaN   \n",
       "atmosphere                                                                       NaN   \n",
       "keywords                                                                         NaN   \n",
       "\n",
       "                                                                                   2  \n",
       "restaurant_link                                                   g10002858-d4586832  \n",
       "restaurant_name                                                      Au Bout du Pont  \n",
       "original_location                  [\"Europe\", \"France\", \"Centre-Val de Loire\", \"B...  \n",
       "country                                                                       France  \n",
       "region                                                           Centre-Val de Loire  \n",
       "province                                                                       Berry  \n",
       "city                                                                      Rivarennes  \n",
       "address                                     2 rue des Dames, 36800 Rivarennes France  \n",
       "latitude                                                                   46.635895  \n",
       "longitude                                                                   1.386133  \n",
       "claimed                                                                      Claimed  \n",
       "awards                                                                           NaN  \n",
       "popularity_detailed                                 #1 of 1 Restaurant in Rivarennes  \n",
       "popularity_generic                               #1 of 1 places to eat in Rivarennes  \n",
       "top_tags                                                Cheap Eats, French, European  \n",
       "price_level                                                                        €  \n",
       "price_range                                                                      NaN  \n",
       "meals                                                          Dinner, Lunch, Drinks  \n",
       "cuisines                                                            French, European  \n",
       "special_diets                                                                    NaN  \n",
       "features                           Reservations, Seating, Table Service, Wheelcha...  \n",
       "vegetarian_friendly                                                                N  \n",
       "vegan_options                                                                      N  \n",
       "gluten_free                                                                        N  \n",
       "original_open_hours                                                              NaN  \n",
       "open_days_per_week                                                               NaN  \n",
       "open_hours_per_week                                                              NaN  \n",
       "working_shifts_per_week                                                          NaN  \n",
       "avg_rating                                                                       5.0  \n",
       "total_reviews_count                                                             13.0  \n",
       "default_language                                                             English  \n",
       "reviews_count_in_default_language                                                4.0  \n",
       "excellent                                                                        3.0  \n",
       "very_good                                                                        1.0  \n",
       "average                                                                          0.0  \n",
       "poor                                                                             0.0  \n",
       "terrible                                                                         0.0  \n",
       "food                                                                             NaN  \n",
       "service                                                                          NaN  \n",
       "value                                                                            NaN  \n",
       "atmosphere                                                                       NaN  \n",
       "keywords                                                                         NaN  "
      ]
     },
     "execution_count": 535,
     "metadata": {},
     "output_type": "execute_result"
    }
   ],
   "source": [
    "df_dataset = pd.read_csv(\"dataset.csv\")\n",
    "df_dataset.head(3).T"
   ]
  },
  {
   "cell_type": "markdown",
   "id": "a11a70a2",
   "metadata": {},
   "source": [
    "### Data cleaning"
   ]
  },
  {
   "cell_type": "markdown",
   "id": "d9abfca8",
   "metadata": {},
   "source": [
    "#### Identify the columns with mixed data types"
   ]
  },
  {
   "cell_type": "code",
   "execution_count": 536,
   "id": "a463dd8f",
   "metadata": {
    "ExecuteTime": {
     "end_time": "2023-01-10T23:17:46.054536Z",
     "start_time": "2023-01-10T23:17:46.008525Z"
    }
   },
   "outputs": [
    {
     "data": {
      "text/html": [
       "<div>\n",
       "<style scoped>\n",
       "    .dataframe tbody tr th:only-of-type {\n",
       "        vertical-align: middle;\n",
       "    }\n",
       "\n",
       "    .dataframe tbody tr th {\n",
       "        vertical-align: top;\n",
       "    }\n",
       "\n",
       "    .dataframe thead th {\n",
       "        text-align: right;\n",
       "    }\n",
       "</style>\n",
       "<table border=\"1\" class=\"dataframe\">\n",
       "  <thead>\n",
       "    <tr style=\"text-align: right;\">\n",
       "      <th></th>\n",
       "      <th>restaurant_link</th>\n",
       "      <th>restaurant_name</th>\n",
       "      <th>original_location</th>\n",
       "      <th>country</th>\n",
       "      <th>region</th>\n",
       "      <th>province</th>\n",
       "      <th>city</th>\n",
       "      <th>address</th>\n",
       "      <th>latitude</th>\n",
       "      <th>longitude</th>\n",
       "      <th>claimed</th>\n",
       "      <th>awards</th>\n",
       "      <th>popularity_detailed</th>\n",
       "      <th>popularity_generic</th>\n",
       "      <th>top_tags</th>\n",
       "      <th>price_level</th>\n",
       "      <th>price_range</th>\n",
       "      <th>meals</th>\n",
       "      <th>cuisines</th>\n",
       "      <th>special_diets</th>\n",
       "      <th>features</th>\n",
       "      <th>vegetarian_friendly</th>\n",
       "      <th>vegan_options</th>\n",
       "      <th>gluten_free</th>\n",
       "      <th>original_open_hours</th>\n",
       "      <th>open_days_per_week</th>\n",
       "      <th>open_hours_per_week</th>\n",
       "      <th>working_shifts_per_week</th>\n",
       "      <th>avg_rating</th>\n",
       "      <th>total_reviews_count</th>\n",
       "      <th>default_language</th>\n",
       "      <th>reviews_count_in_default_language</th>\n",
       "      <th>excellent</th>\n",
       "      <th>very_good</th>\n",
       "      <th>average</th>\n",
       "      <th>poor</th>\n",
       "      <th>terrible</th>\n",
       "      <th>food</th>\n",
       "      <th>service</th>\n",
       "      <th>value</th>\n",
       "      <th>atmosphere</th>\n",
       "      <th>keywords</th>\n",
       "    </tr>\n",
       "  </thead>\n",
       "  <tbody>\n",
       "    <tr>\n",
       "      <th>0</th>\n",
       "      <td>g10001637-d10002227</td>\n",
       "      <td>Le 147</td>\n",
       "      <td>[\"Europe\", \"France\", \"Nouvelle-Aquitaine\", \"Ha...</td>\n",
       "      <td>France</td>\n",
       "      <td>Nouvelle-Aquitaine</td>\n",
       "      <td>Haute-Vienne</td>\n",
       "      <td>Saint-Jouvent</td>\n",
       "      <td>10 Maison Neuve, 87510 Saint-Jouvent France</td>\n",
       "      <td>45.961674</td>\n",
       "      <td>1.169131</td>\n",
       "      <td>Claimed</td>\n",
       "      <td>NaN</td>\n",
       "      <td>#1 of 2 Restaurants in Saint-Jouvent</td>\n",
       "      <td>#1 of 2 places to eat in Saint-Jouvent</td>\n",
       "      <td>Cheap Eats, French</td>\n",
       "      <td>€</td>\n",
       "      <td>NaN</td>\n",
       "      <td>Lunch, Dinner</td>\n",
       "      <td>French</td>\n",
       "      <td>NaN</td>\n",
       "      <td>Reservations, Seating, Wheelchair Accessible, ...</td>\n",
       "      <td>N</td>\n",
       "      <td>N</td>\n",
       "      <td>N</td>\n",
       "      <td>NaN</td>\n",
       "      <td>NaN</td>\n",
       "      <td>NaN</td>\n",
       "      <td>NaN</td>\n",
       "      <td>4.0</td>\n",
       "      <td>36.0</td>\n",
       "      <td>English</td>\n",
       "      <td>2.0</td>\n",
       "      <td>2.0</td>\n",
       "      <td>0.0</td>\n",
       "      <td>0.0</td>\n",
       "      <td>0.0</td>\n",
       "      <td>0.0</td>\n",
       "      <td>4.0</td>\n",
       "      <td>4.5</td>\n",
       "      <td>4.0</td>\n",
       "      <td>NaN</td>\n",
       "      <td>NaN</td>\n",
       "    </tr>\n",
       "    <tr>\n",
       "      <th>1</th>\n",
       "      <td>g10001637-d14975787</td>\n",
       "      <td>Le Saint Jouvent</td>\n",
       "      <td>[\"Europe\", \"France\", \"Nouvelle-Aquitaine\", \"Ha...</td>\n",
       "      <td>France</td>\n",
       "      <td>Nouvelle-Aquitaine</td>\n",
       "      <td>Haute-Vienne</td>\n",
       "      <td>Saint-Jouvent</td>\n",
       "      <td>16 Place de l Eglise, 87510 Saint-Jouvent France</td>\n",
       "      <td>45.957040</td>\n",
       "      <td>1.205480</td>\n",
       "      <td>Unclaimed</td>\n",
       "      <td>NaN</td>\n",
       "      <td>#2 of 2 Restaurants in Saint-Jouvent</td>\n",
       "      <td>#2 of 2 places to eat in Saint-Jouvent</td>\n",
       "      <td>Cheap Eats</td>\n",
       "      <td>€</td>\n",
       "      <td>NaN</td>\n",
       "      <td>NaN</td>\n",
       "      <td>NaN</td>\n",
       "      <td>NaN</td>\n",
       "      <td>NaN</td>\n",
       "      <td>N</td>\n",
       "      <td>N</td>\n",
       "      <td>N</td>\n",
       "      <td>NaN</td>\n",
       "      <td>NaN</td>\n",
       "      <td>NaN</td>\n",
       "      <td>NaN</td>\n",
       "      <td>4.0</td>\n",
       "      <td>5.0</td>\n",
       "      <td>All languages</td>\n",
       "      <td>5.0</td>\n",
       "      <td>2.0</td>\n",
       "      <td>2.0</td>\n",
       "      <td>1.0</td>\n",
       "      <td>0.0</td>\n",
       "      <td>0.0</td>\n",
       "      <td>NaN</td>\n",
       "      <td>NaN</td>\n",
       "      <td>NaN</td>\n",
       "      <td>NaN</td>\n",
       "      <td>NaN</td>\n",
       "    </tr>\n",
       "    <tr>\n",
       "      <th>2</th>\n",
       "      <td>g10002858-d4586832</td>\n",
       "      <td>Au Bout du Pont</td>\n",
       "      <td>[\"Europe\", \"France\", \"Centre-Val de Loire\", \"B...</td>\n",
       "      <td>France</td>\n",
       "      <td>Centre-Val de Loire</td>\n",
       "      <td>Berry</td>\n",
       "      <td>Rivarennes</td>\n",
       "      <td>2 rue des Dames, 36800 Rivarennes France</td>\n",
       "      <td>46.635895</td>\n",
       "      <td>1.386133</td>\n",
       "      <td>Claimed</td>\n",
       "      <td>NaN</td>\n",
       "      <td>#1 of 1 Restaurant in Rivarennes</td>\n",
       "      <td>#1 of 1 places to eat in Rivarennes</td>\n",
       "      <td>Cheap Eats, French, European</td>\n",
       "      <td>€</td>\n",
       "      <td>NaN</td>\n",
       "      <td>Dinner, Lunch, Drinks</td>\n",
       "      <td>French, European</td>\n",
       "      <td>NaN</td>\n",
       "      <td>Reservations, Seating, Table Service, Wheelcha...</td>\n",
       "      <td>N</td>\n",
       "      <td>N</td>\n",
       "      <td>N</td>\n",
       "      <td>NaN</td>\n",
       "      <td>NaN</td>\n",
       "      <td>NaN</td>\n",
       "      <td>NaN</td>\n",
       "      <td>5.0</td>\n",
       "      <td>13.0</td>\n",
       "      <td>English</td>\n",
       "      <td>4.0</td>\n",
       "      <td>3.0</td>\n",
       "      <td>1.0</td>\n",
       "      <td>0.0</td>\n",
       "      <td>0.0</td>\n",
       "      <td>0.0</td>\n",
       "      <td>NaN</td>\n",
       "      <td>NaN</td>\n",
       "      <td>NaN</td>\n",
       "      <td>NaN</td>\n",
       "      <td>NaN</td>\n",
       "    </tr>\n",
       "    <tr>\n",
       "      <th>3</th>\n",
       "      <td>g10002986-d3510044</td>\n",
       "      <td>Le Relais de Naiade</td>\n",
       "      <td>[\"Europe\", \"France\", \"Nouvelle-Aquitaine\", \"Co...</td>\n",
       "      <td>France</td>\n",
       "      <td>Nouvelle-Aquitaine</td>\n",
       "      <td>Correze</td>\n",
       "      <td>Lacelle</td>\n",
       "      <td>9 avenue Porte de la Correze 19170, 19170 Lace...</td>\n",
       "      <td>45.642610</td>\n",
       "      <td>1.824460</td>\n",
       "      <td>Claimed</td>\n",
       "      <td>NaN</td>\n",
       "      <td>#1 of 1 Restaurant in Lacelle</td>\n",
       "      <td>#1 of 1 places to eat in Lacelle</td>\n",
       "      <td>Cheap Eats, French</td>\n",
       "      <td>€</td>\n",
       "      <td>NaN</td>\n",
       "      <td>Lunch, Dinner</td>\n",
       "      <td>French</td>\n",
       "      <td>NaN</td>\n",
       "      <td>Reservations, Seating, Serves Alcohol, Table S...</td>\n",
       "      <td>N</td>\n",
       "      <td>N</td>\n",
       "      <td>N</td>\n",
       "      <td>NaN</td>\n",
       "      <td>NaN</td>\n",
       "      <td>NaN</td>\n",
       "      <td>NaN</td>\n",
       "      <td>4.0</td>\n",
       "      <td>34.0</td>\n",
       "      <td>English</td>\n",
       "      <td>1.0</td>\n",
       "      <td>1.0</td>\n",
       "      <td>0.0</td>\n",
       "      <td>0.0</td>\n",
       "      <td>0.0</td>\n",
       "      <td>0.0</td>\n",
       "      <td>4.5</td>\n",
       "      <td>4.5</td>\n",
       "      <td>4.5</td>\n",
       "      <td>NaN</td>\n",
       "      <td>NaN</td>\n",
       "    </tr>\n",
       "    <tr>\n",
       "      <th>4</th>\n",
       "      <td>g10022428-d9767191</td>\n",
       "      <td>Relais Du MontSeigne</td>\n",
       "      <td>[\"Europe\", \"France\", \"Occitanie\", \"Aveyron\", \"...</td>\n",
       "      <td>France</td>\n",
       "      <td>Occitanie</td>\n",
       "      <td>Aveyron</td>\n",
       "      <td>Saint-Laurent-de-Levezou</td>\n",
       "      <td>route du Montseigne, 12620 Saint-Laurent-de-Le...</td>\n",
       "      <td>44.208860</td>\n",
       "      <td>2.960470</td>\n",
       "      <td>Unclaimed</td>\n",
       "      <td>NaN</td>\n",
       "      <td>#1 of 1 Restaurant in Saint-Laurent-de-Levezou</td>\n",
       "      <td>#1 of 1 places to eat in Saint-Laurent-de-Levezou</td>\n",
       "      <td>Mid-range, French</td>\n",
       "      <td>€€-€€€</td>\n",
       "      <td>NaN</td>\n",
       "      <td>Lunch, Dinner</td>\n",
       "      <td>French</td>\n",
       "      <td>NaN</td>\n",
       "      <td>Reservations, Seating, Wheelchair Accessible, ...</td>\n",
       "      <td>N</td>\n",
       "      <td>N</td>\n",
       "      <td>N</td>\n",
       "      <td>NaN</td>\n",
       "      <td>NaN</td>\n",
       "      <td>NaN</td>\n",
       "      <td>NaN</td>\n",
       "      <td>4.5</td>\n",
       "      <td>11.0</td>\n",
       "      <td>All languages</td>\n",
       "      <td>11.0</td>\n",
       "      <td>4.0</td>\n",
       "      <td>7.0</td>\n",
       "      <td>0.0</td>\n",
       "      <td>0.0</td>\n",
       "      <td>0.0</td>\n",
       "      <td>4.5</td>\n",
       "      <td>4.5</td>\n",
       "      <td>4.5</td>\n",
       "      <td>NaN</td>\n",
       "      <td>NaN</td>\n",
       "    </tr>\n",
       "  </tbody>\n",
       "</table>\n",
       "</div>"
      ],
      "text/plain": [
       "       restaurant_link       restaurant_name  \\\n",
       "0  g10001637-d10002227                Le 147   \n",
       "1  g10001637-d14975787      Le Saint Jouvent   \n",
       "2   g10002858-d4586832       Au Bout du Pont   \n",
       "3   g10002986-d3510044   Le Relais de Naiade   \n",
       "4   g10022428-d9767191  Relais Du MontSeigne   \n",
       "\n",
       "                                   original_location country  \\\n",
       "0  [\"Europe\", \"France\", \"Nouvelle-Aquitaine\", \"Ha...  France   \n",
       "1  [\"Europe\", \"France\", \"Nouvelle-Aquitaine\", \"Ha...  France   \n",
       "2  [\"Europe\", \"France\", \"Centre-Val de Loire\", \"B...  France   \n",
       "3  [\"Europe\", \"France\", \"Nouvelle-Aquitaine\", \"Co...  France   \n",
       "4  [\"Europe\", \"France\", \"Occitanie\", \"Aveyron\", \"...  France   \n",
       "\n",
       "                region      province                      city  \\\n",
       "0   Nouvelle-Aquitaine  Haute-Vienne             Saint-Jouvent   \n",
       "1   Nouvelle-Aquitaine  Haute-Vienne             Saint-Jouvent   \n",
       "2  Centre-Val de Loire         Berry                Rivarennes   \n",
       "3   Nouvelle-Aquitaine       Correze                   Lacelle   \n",
       "4            Occitanie       Aveyron  Saint-Laurent-de-Levezou   \n",
       "\n",
       "                                             address   latitude  longitude  \\\n",
       "0        10 Maison Neuve, 87510 Saint-Jouvent France  45.961674   1.169131   \n",
       "1   16 Place de l Eglise, 87510 Saint-Jouvent France  45.957040   1.205480   \n",
       "2           2 rue des Dames, 36800 Rivarennes France  46.635895   1.386133   \n",
       "3  9 avenue Porte de la Correze 19170, 19170 Lace...  45.642610   1.824460   \n",
       "4  route du Montseigne, 12620 Saint-Laurent-de-Le...  44.208860   2.960470   \n",
       "\n",
       "     claimed awards                             popularity_detailed  \\\n",
       "0    Claimed    NaN            #1 of 2 Restaurants in Saint-Jouvent   \n",
       "1  Unclaimed    NaN            #2 of 2 Restaurants in Saint-Jouvent   \n",
       "2    Claimed    NaN                #1 of 1 Restaurant in Rivarennes   \n",
       "3    Claimed    NaN                   #1 of 1 Restaurant in Lacelle   \n",
       "4  Unclaimed    NaN  #1 of 1 Restaurant in Saint-Laurent-de-Levezou   \n",
       "\n",
       "                                  popularity_generic  \\\n",
       "0             #1 of 2 places to eat in Saint-Jouvent   \n",
       "1             #2 of 2 places to eat in Saint-Jouvent   \n",
       "2                #1 of 1 places to eat in Rivarennes   \n",
       "3                   #1 of 1 places to eat in Lacelle   \n",
       "4  #1 of 1 places to eat in Saint-Laurent-de-Levezou   \n",
       "\n",
       "                       top_tags price_level price_range  \\\n",
       "0            Cheap Eats, French           €         NaN   \n",
       "1                    Cheap Eats           €         NaN   \n",
       "2  Cheap Eats, French, European           €         NaN   \n",
       "3            Cheap Eats, French           €         NaN   \n",
       "4             Mid-range, French      €€-€€€         NaN   \n",
       "\n",
       "                   meals          cuisines special_diets  \\\n",
       "0          Lunch, Dinner            French           NaN   \n",
       "1                    NaN               NaN           NaN   \n",
       "2  Dinner, Lunch, Drinks  French, European           NaN   \n",
       "3          Lunch, Dinner            French           NaN   \n",
       "4          Lunch, Dinner            French           NaN   \n",
       "\n",
       "                                            features vegetarian_friendly  \\\n",
       "0  Reservations, Seating, Wheelchair Accessible, ...                   N   \n",
       "1                                                NaN                   N   \n",
       "2  Reservations, Seating, Table Service, Wheelcha...                   N   \n",
       "3  Reservations, Seating, Serves Alcohol, Table S...                   N   \n",
       "4  Reservations, Seating, Wheelchair Accessible, ...                   N   \n",
       "\n",
       "  vegan_options gluten_free original_open_hours  open_days_per_week  \\\n",
       "0             N           N                 NaN                 NaN   \n",
       "1             N           N                 NaN                 NaN   \n",
       "2             N           N                 NaN                 NaN   \n",
       "3             N           N                 NaN                 NaN   \n",
       "4             N           N                 NaN                 NaN   \n",
       "\n",
       "   open_hours_per_week  working_shifts_per_week  avg_rating  \\\n",
       "0                  NaN                      NaN         4.0   \n",
       "1                  NaN                      NaN         4.0   \n",
       "2                  NaN                      NaN         5.0   \n",
       "3                  NaN                      NaN         4.0   \n",
       "4                  NaN                      NaN         4.5   \n",
       "\n",
       "   total_reviews_count default_language  reviews_count_in_default_language  \\\n",
       "0                 36.0          English                                2.0   \n",
       "1                  5.0    All languages                                5.0   \n",
       "2                 13.0          English                                4.0   \n",
       "3                 34.0          English                                1.0   \n",
       "4                 11.0    All languages                               11.0   \n",
       "\n",
       "   excellent  very_good  average  poor  terrible  food  service  value  \\\n",
       "0        2.0        0.0      0.0   0.0       0.0   4.0      4.5    4.0   \n",
       "1        2.0        2.0      1.0   0.0       0.0   NaN      NaN    NaN   \n",
       "2        3.0        1.0      0.0   0.0       0.0   NaN      NaN    NaN   \n",
       "3        1.0        0.0      0.0   0.0       0.0   4.5      4.5    4.5   \n",
       "4        4.0        7.0      0.0   0.0       0.0   4.5      4.5    4.5   \n",
       "\n",
       "   atmosphere keywords  \n",
       "0         NaN      NaN  \n",
       "1         NaN      NaN  \n",
       "2         NaN      NaN  \n",
       "3         NaN      NaN  \n",
       "4         NaN      NaN  "
      ]
     },
     "execution_count": 536,
     "metadata": {},
     "output_type": "execute_result"
    }
   ],
   "source": [
    "df_dataset.head()"
   ]
  },
  {
   "cell_type": "code",
   "execution_count": 537,
   "id": "8a6e2d5d",
   "metadata": {
    "ExecuteTime": {
     "end_time": "2023-01-10T23:17:49.316271Z",
     "start_time": "2023-01-10T23:17:46.056536Z"
    }
   },
   "outputs": [
    {
     "name": "stdout",
     "output_type": "stream",
     "text": [
      "<class 'pandas.core.frame.DataFrame'>\n",
      "RangeIndex: 1083397 entries, 0 to 1083396\n",
      "Data columns (total 42 columns):\n",
      " #   Column                             Non-Null Count    Dtype  \n",
      "---  ------                             --------------    -----  \n",
      " 0   restaurant_link                    1083397 non-null  object \n",
      " 1   restaurant_name                    1083397 non-null  object \n",
      " 2   original_location                  1083397 non-null  object \n",
      " 3   country                            1083397 non-null  object \n",
      " 4   region                             1033074 non-null  object \n",
      " 5   province                           742765 non-null   object \n",
      " 6   city                               682712 non-null   object \n",
      " 7   address                            1083397 non-null  object \n",
      " 8   latitude                           1067607 non-null  float64\n",
      " 9   longitude                          1067607 non-null  float64\n",
      " 10  claimed                            1081555 non-null  object \n",
      " 11  awards                             263133 non-null   object \n",
      " 12  popularity_detailed                988409 non-null   object \n",
      " 13  popularity_generic                 985605 non-null   object \n",
      " 14  top_tags                           972763 non-null   object \n",
      " 15  price_level                        806192 non-null   object \n",
      " 16  price_range                        304327 non-null   object \n",
      " 17  meals                              635347 non-null   object \n",
      " 18  cuisines                           914294 non-null   object \n",
      " 19  special_diets                      340256 non-null   object \n",
      " 20  features                           317407 non-null   object \n",
      " 21  vegetarian_friendly                1083397 non-null  object \n",
      " 22  vegan_options                      1083397 non-null  object \n",
      " 23  gluten_free                        1083397 non-null  object \n",
      " 24  original_open_hours                593832 non-null   object \n",
      " 25  open_days_per_week                 593832 non-null   float64\n",
      " 26  open_hours_per_week                593832 non-null   float64\n",
      " 27  working_shifts_per_week            593832 non-null   float64\n",
      " 28  avg_rating                         986761 non-null   float64\n",
      " 29  total_reviews_count                1031162 non-null  float64\n",
      " 30  default_language                   988204 non-null   object \n",
      " 31  reviews_count_in_default_language  988204 non-null   float64\n",
      " 32  excellent                          988204 non-null   float64\n",
      " 33  very_good                          988204 non-null   float64\n",
      " 34  average                            988204 non-null   float64\n",
      " 35  poor                               988204 non-null   float64\n",
      " 36  terrible                           988204 non-null   float64\n",
      " 37  food                               599325 non-null   float64\n",
      " 38  service                            604287 non-null   float64\n",
      " 39  value                              602692 non-null   float64\n",
      " 40  atmosphere                         261785 non-null   float64\n",
      " 41  keywords                           99198 non-null    object \n",
      "dtypes: float64(17), object(25)\n",
      "memory usage: 347.2+ MB\n"
     ]
    }
   ],
   "source": [
    "df_dataset.info()"
   ]
  },
  {
   "cell_type": "markdown",
   "id": "41c010e4",
   "metadata": {},
   "source": [
    "The columns with object data type are prime suspects for containing mixed data type content. Therefore, we will check if a column has more than one data type with the following code:"
   ]
  },
  {
   "cell_type": "code",
   "execution_count": 538,
   "id": "363ddaa9",
   "metadata": {
    "ExecuteTime": {
     "end_time": "2023-01-10T23:17:58.977042Z",
     "start_time": "2023-01-10T23:17:49.318272Z"
    }
   },
   "outputs": [
    {
     "name": "stdout",
     "output_type": "stream",
     "text": [
      "['region', 'province', 'city', 'claimed', 'awards', 'popularity_detailed', 'popularity_generic', 'top_tags', 'price_level', 'price_range', 'meals', 'cuisines', 'special_diets', 'features', 'original_open_hours', 'default_language', 'keywords']\n"
     ]
    }
   ],
   "source": [
    "df = df_dataset\n",
    "\n",
    "mixed_col_list = []\n",
    "\n",
    "for col in df.columns:\n",
    "    mixed = (df[[col]].applymap(type) != df[[col]].iloc[0].apply(type)).any(axis=1)\n",
    "    if len(df[mixed]) > 0:\n",
    "        mixed_col_list.append(col)\n",
    "\n",
    "print(mixed_col_list)"
   ]
  },
  {
   "cell_type": "code",
   "execution_count": null,
   "id": "60d5ad5e",
   "metadata": {},
   "outputs": [],
   "source": []
  },
  {
   "cell_type": "markdown",
   "id": "17d0eb76",
   "metadata": {},
   "source": [
    "#### For each column, count the number of rows per data type.\n",
    "\n",
    "To solve this problem, we will first create a new dataset with cell data type. Then, we display the value counts of data types for each column. Here is the answer:"
   ]
  },
  {
   "cell_type": "code",
   "execution_count": 539,
   "id": "8be8eab5",
   "metadata": {
    "ExecuteTime": {
     "end_time": "2023-01-10T23:18:01.424594Z",
     "start_time": "2023-01-10T23:17:58.978042Z"
    }
   },
   "outputs": [
    {
     "data": {
      "text/plain": [
       "<class 'str'>      1033074\n",
       "<class 'float'>      50323\n",
       "Name: region, dtype: int64"
      ]
     },
     "metadata": {},
     "output_type": "display_data"
    },
    {
     "data": {
      "text/plain": [
       "<class 'str'>      742765\n",
       "<class 'float'>    340632\n",
       "Name: province, dtype: int64"
      ]
     },
     "metadata": {},
     "output_type": "display_data"
    },
    {
     "data": {
      "text/plain": [
       "<class 'str'>      682712\n",
       "<class 'float'>    400685\n",
       "Name: city, dtype: int64"
      ]
     },
     "metadata": {},
     "output_type": "display_data"
    },
    {
     "data": {
      "text/plain": [
       "<class 'str'>      1081555\n",
       "<class 'float'>       1842\n",
       "Name: claimed, dtype: int64"
      ]
     },
     "metadata": {},
     "output_type": "display_data"
    },
    {
     "data": {
      "text/plain": [
       "<class 'float'>    820264\n",
       "<class 'str'>      263133\n",
       "Name: awards, dtype: int64"
      ]
     },
     "metadata": {},
     "output_type": "display_data"
    },
    {
     "data": {
      "text/plain": [
       "<class 'str'>      988409\n",
       "<class 'float'>     94988\n",
       "Name: popularity_detailed, dtype: int64"
      ]
     },
     "metadata": {},
     "output_type": "display_data"
    },
    {
     "data": {
      "text/plain": [
       "<class 'str'>      985605\n",
       "<class 'float'>     97792\n",
       "Name: popularity_generic, dtype: int64"
      ]
     },
     "metadata": {},
     "output_type": "display_data"
    },
    {
     "data": {
      "text/plain": [
       "<class 'str'>      972763\n",
       "<class 'float'>    110634\n",
       "Name: top_tags, dtype: int64"
      ]
     },
     "metadata": {},
     "output_type": "display_data"
    },
    {
     "data": {
      "text/plain": [
       "<class 'str'>      806192\n",
       "<class 'float'>    277205\n",
       "Name: price_level, dtype: int64"
      ]
     },
     "metadata": {},
     "output_type": "display_data"
    },
    {
     "data": {
      "text/plain": [
       "<class 'float'>    779070\n",
       "<class 'str'>      304327\n",
       "Name: price_range, dtype: int64"
      ]
     },
     "metadata": {},
     "output_type": "display_data"
    },
    {
     "data": {
      "text/plain": [
       "<class 'str'>      635347\n",
       "<class 'float'>    448050\n",
       "Name: meals, dtype: int64"
      ]
     },
     "metadata": {},
     "output_type": "display_data"
    },
    {
     "data": {
      "text/plain": [
       "<class 'str'>      914294\n",
       "<class 'float'>    169103\n",
       "Name: cuisines, dtype: int64"
      ]
     },
     "metadata": {},
     "output_type": "display_data"
    },
    {
     "data": {
      "text/plain": [
       "<class 'float'>    743141\n",
       "<class 'str'>      340256\n",
       "Name: special_diets, dtype: int64"
      ]
     },
     "metadata": {},
     "output_type": "display_data"
    },
    {
     "data": {
      "text/plain": [
       "<class 'float'>    765990\n",
       "<class 'str'>      317407\n",
       "Name: features, dtype: int64"
      ]
     },
     "metadata": {},
     "output_type": "display_data"
    },
    {
     "data": {
      "text/plain": [
       "<class 'str'>      593832\n",
       "<class 'float'>    489565\n",
       "Name: original_open_hours, dtype: int64"
      ]
     },
     "metadata": {},
     "output_type": "display_data"
    },
    {
     "data": {
      "text/plain": [
       "<class 'str'>      988204\n",
       "<class 'float'>     95193\n",
       "Name: default_language, dtype: int64"
      ]
     },
     "metadata": {},
     "output_type": "display_data"
    },
    {
     "data": {
      "text/plain": [
       "<class 'float'>    984199\n",
       "<class 'str'>       99198\n",
       "Name: keywords, dtype: int64"
      ]
     },
     "metadata": {},
     "output_type": "display_data"
    }
   ],
   "source": [
    "data_type = df[mixed_col_list].applymap(type)\n",
    "\n",
    "for i in data_type.columns:\n",
    "    display(data_type[i].value_counts())\n"
   ]
  },
  {
   "cell_type": "code",
   "execution_count": null,
   "id": "99051fc0",
   "metadata": {},
   "outputs": [],
   "source": []
  },
  {
   "cell_type": "markdown",
   "id": "1ced5da4",
   "metadata": {},
   "source": [
    "#### Would removing missing values solve the mixed data type problem?\n",
    "\n",
    "First of all, we need to be careful when we decide to remove missing values from a dataset because it might cause a signifnicant amount of data. However, since the task asks us to check if removing missing values would solve the mixed data type problem, we will drop all the missing values and check if the problem is solved. "
   ]
  },
  {
   "cell_type": "code",
   "execution_count": 540,
   "id": "8b5ab191",
   "metadata": {
    "ExecuteTime": {
     "end_time": "2023-01-10T23:18:04.672326Z",
     "start_time": "2023-01-10T23:18:01.426593Z"
    }
   },
   "outputs": [],
   "source": [
    "df1 = df_dataset.dropna()"
   ]
  },
  {
   "cell_type": "code",
   "execution_count": 541,
   "id": "32b155f3",
   "metadata": {
    "ExecuteTime": {
     "end_time": "2023-01-10T23:18:04.688330Z",
     "start_time": "2023-01-10T23:18:04.674328Z"
    }
   },
   "outputs": [
    {
     "data": {
      "text/plain": [
       "0"
      ]
     },
     "execution_count": 541,
     "metadata": {},
     "output_type": "execute_result"
    }
   ],
   "source": [
    "df1.isnull().sum().sum()"
   ]
  },
  {
   "cell_type": "code",
   "execution_count": 542,
   "id": "07e9d401",
   "metadata": {
    "ExecuteTime": {
     "end_time": "2023-01-10T23:18:04.704334Z",
     "start_time": "2023-01-10T23:18:04.691332Z"
    }
   },
   "outputs": [
    {
     "data": {
      "text/plain": [
       "((1083397, 42), (2177, 42))"
      ]
     },
     "execution_count": 542,
     "metadata": {},
     "output_type": "execute_result"
    }
   ],
   "source": [
    "df_dataset.shape, df1.shape"
   ]
  },
  {
   "cell_type": "markdown",
   "id": "0aed1d91",
   "metadata": {},
   "source": [
    "Now, we have no missing values in the dataset. However, the new dataset has lost a lot of data points. See shape values above."
   ]
  },
  {
   "cell_type": "code",
   "execution_count": 543,
   "id": "3b357895",
   "metadata": {
    "ExecuteTime": {
     "end_time": "2023-01-10T23:18:04.800356Z",
     "start_time": "2023-01-10T23:18:04.705335Z"
    }
   },
   "outputs": [
    {
     "name": "stdout",
     "output_type": "stream",
     "text": [
      "[]\n"
     ]
    }
   ],
   "source": [
    "df = df1\n",
    "\n",
    "mixed_col_list = []\n",
    "\n",
    "for col in df.columns:\n",
    "    mixed = (df[[col]].applymap(type) != df[[col]].iloc[0].apply(type)).any(axis=1)\n",
    "    if len(df[mixed]) > 0:\n",
    "        mixed_col_list.append(col)\n",
    "\n",
    "print(mixed_col_list)"
   ]
  },
  {
   "cell_type": "markdown",
   "id": "b71d5b28",
   "metadata": {},
   "source": [
    "This empty list tells us that removing missing values has resolved the mixed data type problem."
   ]
  },
  {
   "cell_type": "markdown",
   "id": "02d4fcd6",
   "metadata": {},
   "source": []
  },
  {
   "cell_type": "markdown",
   "id": "08178fa1",
   "metadata": {},
   "source": [
    "### Data understanding\n"
   ]
  },
  {
   "cell_type": "markdown",
   "id": "655cbbab",
   "metadata": {},
   "source": [
    "#### Are the review columns correlated with the rating columns? \n",
    "* Review columns: [\"excellent\", \"very_good\", \"average\", \"poor\", \"terrible\", \"total_reviews_count\", \"reviews_count_in_default_language\"]\n",
    "\n",
    "* Rating columns: [\"food\", \"service\", \"value\", \"atmosphere\", \"avg_rating\"]\n",
    "\n",
    "\n",
    "In order to test whether the review columns are correlated with the rating columns, I will use Pearson's Correlation Test. The Pearson correlation coefficient, also known as Pearson's r, is a measure of the linear correlation between two columns/variables/features. It ranges from -1 to 1, with -1 indicating a perfect negative correlation, 0 indicating no correlation, and 1 indicating a perfect positive correlation. The Pearson correlation measures the strength and direction of a linear relationship between two variables, and it can be used to determine how closely the two variables are related.\n",
    "\n",
    "First, I will create a seperate dataframe that includes only the review and rating columns to prevent clutter on our screen."
   ]
  },
  {
   "cell_type": "code",
   "execution_count": 544,
   "id": "dd1b5797",
   "metadata": {
    "ExecuteTime": {
     "end_time": "2023-01-10T23:18:04.848367Z",
     "start_time": "2023-01-10T23:18:04.801357Z"
    }
   },
   "outputs": [
    {
     "data": {
      "text/html": [
       "<div>\n",
       "<style scoped>\n",
       "    .dataframe tbody tr th:only-of-type {\n",
       "        vertical-align: middle;\n",
       "    }\n",
       "\n",
       "    .dataframe tbody tr th {\n",
       "        vertical-align: top;\n",
       "    }\n",
       "\n",
       "    .dataframe thead th {\n",
       "        text-align: right;\n",
       "    }\n",
       "</style>\n",
       "<table border=\"1\" class=\"dataframe\">\n",
       "  <thead>\n",
       "    <tr style=\"text-align: right;\">\n",
       "      <th></th>\n",
       "      <th>excellent</th>\n",
       "      <th>very_good</th>\n",
       "      <th>average</th>\n",
       "      <th>poor</th>\n",
       "      <th>terrible</th>\n",
       "      <th>total_reviews_count</th>\n",
       "      <th>reviews_count_in_default_language</th>\n",
       "      <th>food</th>\n",
       "      <th>service</th>\n",
       "      <th>value</th>\n",
       "      <th>atmosphere</th>\n",
       "      <th>avg_rating</th>\n",
       "    </tr>\n",
       "  </thead>\n",
       "  <tbody>\n",
       "    <tr>\n",
       "      <th>0</th>\n",
       "      <td>2.0</td>\n",
       "      <td>0.0</td>\n",
       "      <td>0.0</td>\n",
       "      <td>0.0</td>\n",
       "      <td>0.0</td>\n",
       "      <td>36.0</td>\n",
       "      <td>2.0</td>\n",
       "      <td>4.0</td>\n",
       "      <td>4.5</td>\n",
       "      <td>4.0</td>\n",
       "      <td>NaN</td>\n",
       "      <td>4.0</td>\n",
       "    </tr>\n",
       "    <tr>\n",
       "      <th>1</th>\n",
       "      <td>2.0</td>\n",
       "      <td>2.0</td>\n",
       "      <td>1.0</td>\n",
       "      <td>0.0</td>\n",
       "      <td>0.0</td>\n",
       "      <td>5.0</td>\n",
       "      <td>5.0</td>\n",
       "      <td>NaN</td>\n",
       "      <td>NaN</td>\n",
       "      <td>NaN</td>\n",
       "      <td>NaN</td>\n",
       "      <td>4.0</td>\n",
       "    </tr>\n",
       "    <tr>\n",
       "      <th>2</th>\n",
       "      <td>3.0</td>\n",
       "      <td>1.0</td>\n",
       "      <td>0.0</td>\n",
       "      <td>0.0</td>\n",
       "      <td>0.0</td>\n",
       "      <td>13.0</td>\n",
       "      <td>4.0</td>\n",
       "      <td>NaN</td>\n",
       "      <td>NaN</td>\n",
       "      <td>NaN</td>\n",
       "      <td>NaN</td>\n",
       "      <td>5.0</td>\n",
       "    </tr>\n",
       "    <tr>\n",
       "      <th>3</th>\n",
       "      <td>1.0</td>\n",
       "      <td>0.0</td>\n",
       "      <td>0.0</td>\n",
       "      <td>0.0</td>\n",
       "      <td>0.0</td>\n",
       "      <td>34.0</td>\n",
       "      <td>1.0</td>\n",
       "      <td>4.5</td>\n",
       "      <td>4.5</td>\n",
       "      <td>4.5</td>\n",
       "      <td>NaN</td>\n",
       "      <td>4.0</td>\n",
       "    </tr>\n",
       "    <tr>\n",
       "      <th>4</th>\n",
       "      <td>4.0</td>\n",
       "      <td>7.0</td>\n",
       "      <td>0.0</td>\n",
       "      <td>0.0</td>\n",
       "      <td>0.0</td>\n",
       "      <td>11.0</td>\n",
       "      <td>11.0</td>\n",
       "      <td>4.5</td>\n",
       "      <td>4.5</td>\n",
       "      <td>4.5</td>\n",
       "      <td>NaN</td>\n",
       "      <td>4.5</td>\n",
       "    </tr>\n",
       "    <tr>\n",
       "      <th>...</th>\n",
       "      <td>...</td>\n",
       "      <td>...</td>\n",
       "      <td>...</td>\n",
       "      <td>...</td>\n",
       "      <td>...</td>\n",
       "      <td>...</td>\n",
       "      <td>...</td>\n",
       "      <td>...</td>\n",
       "      <td>...</td>\n",
       "      <td>...</td>\n",
       "      <td>...</td>\n",
       "      <td>...</td>\n",
       "    </tr>\n",
       "    <tr>\n",
       "      <th>1083392</th>\n",
       "      <td>0.0</td>\n",
       "      <td>0.0</td>\n",
       "      <td>0.0</td>\n",
       "      <td>0.0</td>\n",
       "      <td>1.0</td>\n",
       "      <td>2.0</td>\n",
       "      <td>1.0</td>\n",
       "      <td>NaN</td>\n",
       "      <td>NaN</td>\n",
       "      <td>NaN</td>\n",
       "      <td>NaN</td>\n",
       "      <td>2.5</td>\n",
       "    </tr>\n",
       "    <tr>\n",
       "      <th>1083393</th>\n",
       "      <td>0.0</td>\n",
       "      <td>1.0</td>\n",
       "      <td>1.0</td>\n",
       "      <td>1.0</td>\n",
       "      <td>2.0</td>\n",
       "      <td>6.0</td>\n",
       "      <td>5.0</td>\n",
       "      <td>NaN</td>\n",
       "      <td>NaN</td>\n",
       "      <td>NaN</td>\n",
       "      <td>NaN</td>\n",
       "      <td>2.0</td>\n",
       "    </tr>\n",
       "    <tr>\n",
       "      <th>1083394</th>\n",
       "      <td>1.0</td>\n",
       "      <td>0.0</td>\n",
       "      <td>0.0</td>\n",
       "      <td>0.0</td>\n",
       "      <td>1.0</td>\n",
       "      <td>2.0</td>\n",
       "      <td>2.0</td>\n",
       "      <td>NaN</td>\n",
       "      <td>NaN</td>\n",
       "      <td>NaN</td>\n",
       "      <td>NaN</td>\n",
       "      <td>3.0</td>\n",
       "    </tr>\n",
       "    <tr>\n",
       "      <th>1083395</th>\n",
       "      <td>NaN</td>\n",
       "      <td>NaN</td>\n",
       "      <td>NaN</td>\n",
       "      <td>NaN</td>\n",
       "      <td>NaN</td>\n",
       "      <td>0.0</td>\n",
       "      <td>NaN</td>\n",
       "      <td>NaN</td>\n",
       "      <td>NaN</td>\n",
       "      <td>NaN</td>\n",
       "      <td>NaN</td>\n",
       "      <td>NaN</td>\n",
       "    </tr>\n",
       "    <tr>\n",
       "      <th>1083396</th>\n",
       "      <td>0.0</td>\n",
       "      <td>0.0</td>\n",
       "      <td>1.0</td>\n",
       "      <td>0.0</td>\n",
       "      <td>1.0</td>\n",
       "      <td>3.0</td>\n",
       "      <td>2.0</td>\n",
       "      <td>NaN</td>\n",
       "      <td>NaN</td>\n",
       "      <td>NaN</td>\n",
       "      <td>NaN</td>\n",
       "      <td>1.5</td>\n",
       "    </tr>\n",
       "  </tbody>\n",
       "</table>\n",
       "<p>1083397 rows × 12 columns</p>\n",
       "</div>"
      ],
      "text/plain": [
       "         excellent  very_good  average  poor  terrible  total_reviews_count  \\\n",
       "0              2.0        0.0      0.0   0.0       0.0                 36.0   \n",
       "1              2.0        2.0      1.0   0.0       0.0                  5.0   \n",
       "2              3.0        1.0      0.0   0.0       0.0                 13.0   \n",
       "3              1.0        0.0      0.0   0.0       0.0                 34.0   \n",
       "4              4.0        7.0      0.0   0.0       0.0                 11.0   \n",
       "...            ...        ...      ...   ...       ...                  ...   \n",
       "1083392        0.0        0.0      0.0   0.0       1.0                  2.0   \n",
       "1083393        0.0        1.0      1.0   1.0       2.0                  6.0   \n",
       "1083394        1.0        0.0      0.0   0.0       1.0                  2.0   \n",
       "1083395        NaN        NaN      NaN   NaN       NaN                  0.0   \n",
       "1083396        0.0        0.0      1.0   0.0       1.0                  3.0   \n",
       "\n",
       "         reviews_count_in_default_language  food  service  value  atmosphere  \\\n",
       "0                                      2.0   4.0      4.5    4.0         NaN   \n",
       "1                                      5.0   NaN      NaN    NaN         NaN   \n",
       "2                                      4.0   NaN      NaN    NaN         NaN   \n",
       "3                                      1.0   4.5      4.5    4.5         NaN   \n",
       "4                                     11.0   4.5      4.5    4.5         NaN   \n",
       "...                                    ...   ...      ...    ...         ...   \n",
       "1083392                                1.0   NaN      NaN    NaN         NaN   \n",
       "1083393                                5.0   NaN      NaN    NaN         NaN   \n",
       "1083394                                2.0   NaN      NaN    NaN         NaN   \n",
       "1083395                                NaN   NaN      NaN    NaN         NaN   \n",
       "1083396                                2.0   NaN      NaN    NaN         NaN   \n",
       "\n",
       "         avg_rating  \n",
       "0               4.0  \n",
       "1               4.0  \n",
       "2               5.0  \n",
       "3               4.0  \n",
       "4               4.5  \n",
       "...             ...  \n",
       "1083392         2.5  \n",
       "1083393         2.0  \n",
       "1083394         3.0  \n",
       "1083395         NaN  \n",
       "1083396         1.5  \n",
       "\n",
       "[1083397 rows x 12 columns]"
      ]
     },
     "execution_count": 544,
     "metadata": {},
     "output_type": "execute_result"
    }
   ],
   "source": [
    "df_rev_rating = df_dataset[[\"excellent\", \"very_good\", \"average\", \"poor\", \"terrible\", \"total_reviews_count\", \"reviews_count_in_default_language\", \"food\", \"service\", \"value\", \"atmosphere\", \"avg_rating\"]]\n",
    "df_rev_rating"
   ]
  },
  {
   "cell_type": "code",
   "execution_count": 545,
   "id": "ab47cac6",
   "metadata": {
    "ExecuteTime": {
     "end_time": "2023-01-10T23:18:05.232453Z",
     "start_time": "2023-01-10T23:18:04.850367Z"
    }
   },
   "outputs": [
    {
     "data": {
      "text/html": [
       "<div>\n",
       "<style scoped>\n",
       "    .dataframe tbody tr th:only-of-type {\n",
       "        vertical-align: middle;\n",
       "    }\n",
       "\n",
       "    .dataframe tbody tr th {\n",
       "        vertical-align: top;\n",
       "    }\n",
       "\n",
       "    .dataframe thead th {\n",
       "        text-align: right;\n",
       "    }\n",
       "</style>\n",
       "<table border=\"1\" class=\"dataframe\">\n",
       "  <thead>\n",
       "    <tr style=\"text-align: right;\">\n",
       "      <th></th>\n",
       "      <th>count</th>\n",
       "      <th>mean</th>\n",
       "      <th>std</th>\n",
       "      <th>min</th>\n",
       "      <th>25%</th>\n",
       "      <th>50%</th>\n",
       "      <th>75%</th>\n",
       "      <th>max</th>\n",
       "    </tr>\n",
       "  </thead>\n",
       "  <tbody>\n",
       "    <tr>\n",
       "      <th>excellent</th>\n",
       "      <td>988204.0</td>\n",
       "      <td>24.653440</td>\n",
       "      <td>89.850801</td>\n",
       "      <td>0.0</td>\n",
       "      <td>1.0</td>\n",
       "      <td>3.0</td>\n",
       "      <td>13.0</td>\n",
       "      <td>9383.0</td>\n",
       "    </tr>\n",
       "    <tr>\n",
       "      <th>very_good</th>\n",
       "      <td>988204.0</td>\n",
       "      <td>10.490516</td>\n",
       "      <td>35.512256</td>\n",
       "      <td>0.0</td>\n",
       "      <td>0.0</td>\n",
       "      <td>2.0</td>\n",
       "      <td>6.0</td>\n",
       "      <td>4091.0</td>\n",
       "    </tr>\n",
       "    <tr>\n",
       "      <th>average</th>\n",
       "      <td>988204.0</td>\n",
       "      <td>4.109302</td>\n",
       "      <td>15.669631</td>\n",
       "      <td>0.0</td>\n",
       "      <td>0.0</td>\n",
       "      <td>1.0</td>\n",
       "      <td>2.0</td>\n",
       "      <td>2132.0</td>\n",
       "    </tr>\n",
       "    <tr>\n",
       "      <th>poor</th>\n",
       "      <td>988204.0</td>\n",
       "      <td>2.355306</td>\n",
       "      <td>9.352756</td>\n",
       "      <td>0.0</td>\n",
       "      <td>0.0</td>\n",
       "      <td>0.0</td>\n",
       "      <td>1.0</td>\n",
       "      <td>1253.0</td>\n",
       "    </tr>\n",
       "    <tr>\n",
       "      <th>terrible</th>\n",
       "      <td>988204.0</td>\n",
       "      <td>2.954850</td>\n",
       "      <td>11.030069</td>\n",
       "      <td>0.0</td>\n",
       "      <td>0.0</td>\n",
       "      <td>0.0</td>\n",
       "      <td>2.0</td>\n",
       "      <td>1215.0</td>\n",
       "    </tr>\n",
       "    <tr>\n",
       "      <th>total_reviews_count</th>\n",
       "      <td>1031162.0</td>\n",
       "      <td>102.888989</td>\n",
       "      <td>267.241480</td>\n",
       "      <td>0.0</td>\n",
       "      <td>6.0</td>\n",
       "      <td>24.0</td>\n",
       "      <td>93.0</td>\n",
       "      <td>52404.0</td>\n",
       "    </tr>\n",
       "    <tr>\n",
       "      <th>reviews_count_in_default_language</th>\n",
       "      <td>988204.0</td>\n",
       "      <td>44.563415</td>\n",
       "      <td>148.728179</td>\n",
       "      <td>1.0</td>\n",
       "      <td>2.0</td>\n",
       "      <td>7.0</td>\n",
       "      <td>26.0</td>\n",
       "      <td>15229.0</td>\n",
       "    </tr>\n",
       "    <tr>\n",
       "      <th>food</th>\n",
       "      <td>599325.0</td>\n",
       "      <td>4.104179</td>\n",
       "      <td>0.564208</td>\n",
       "      <td>1.0</td>\n",
       "      <td>4.0</td>\n",
       "      <td>4.0</td>\n",
       "      <td>4.5</td>\n",
       "      <td>5.0</td>\n",
       "    </tr>\n",
       "    <tr>\n",
       "      <th>service</th>\n",
       "      <td>604287.0</td>\n",
       "      <td>4.067245</td>\n",
       "      <td>0.581267</td>\n",
       "      <td>1.0</td>\n",
       "      <td>4.0</td>\n",
       "      <td>4.0</td>\n",
       "      <td>4.5</td>\n",
       "      <td>5.0</td>\n",
       "    </tr>\n",
       "    <tr>\n",
       "      <th>value</th>\n",
       "      <td>602692.0</td>\n",
       "      <td>3.982897</td>\n",
       "      <td>0.577605</td>\n",
       "      <td>1.0</td>\n",
       "      <td>3.5</td>\n",
       "      <td>4.0</td>\n",
       "      <td>4.5</td>\n",
       "      <td>5.0</td>\n",
       "    </tr>\n",
       "    <tr>\n",
       "      <th>atmosphere</th>\n",
       "      <td>261785.0</td>\n",
       "      <td>3.933682</td>\n",
       "      <td>0.555262</td>\n",
       "      <td>1.0</td>\n",
       "      <td>3.5</td>\n",
       "      <td>4.0</td>\n",
       "      <td>4.5</td>\n",
       "      <td>5.0</td>\n",
       "    </tr>\n",
       "    <tr>\n",
       "      <th>avg_rating</th>\n",
       "      <td>986761.0</td>\n",
       "      <td>4.035943</td>\n",
       "      <td>0.713694</td>\n",
       "      <td>1.0</td>\n",
       "      <td>3.5</td>\n",
       "      <td>4.0</td>\n",
       "      <td>4.5</td>\n",
       "      <td>5.0</td>\n",
       "    </tr>\n",
       "  </tbody>\n",
       "</table>\n",
       "</div>"
      ],
      "text/plain": [
       "                                       count        mean         std  min  \\\n",
       "excellent                           988204.0   24.653440   89.850801  0.0   \n",
       "very_good                           988204.0   10.490516   35.512256  0.0   \n",
       "average                             988204.0    4.109302   15.669631  0.0   \n",
       "poor                                988204.0    2.355306    9.352756  0.0   \n",
       "terrible                            988204.0    2.954850   11.030069  0.0   \n",
       "total_reviews_count                1031162.0  102.888989  267.241480  0.0   \n",
       "reviews_count_in_default_language   988204.0   44.563415  148.728179  1.0   \n",
       "food                                599325.0    4.104179    0.564208  1.0   \n",
       "service                             604287.0    4.067245    0.581267  1.0   \n",
       "value                               602692.0    3.982897    0.577605  1.0   \n",
       "atmosphere                          261785.0    3.933682    0.555262  1.0   \n",
       "avg_rating                          986761.0    4.035943    0.713694  1.0   \n",
       "\n",
       "                                   25%   50%   75%      max  \n",
       "excellent                          1.0   3.0  13.0   9383.0  \n",
       "very_good                          0.0   2.0   6.0   4091.0  \n",
       "average                            0.0   1.0   2.0   2132.0  \n",
       "poor                               0.0   0.0   1.0   1253.0  \n",
       "terrible                           0.0   0.0   2.0   1215.0  \n",
       "total_reviews_count                6.0  24.0  93.0  52404.0  \n",
       "reviews_count_in_default_language  2.0   7.0  26.0  15229.0  \n",
       "food                               4.0   4.0   4.5      5.0  \n",
       "service                            4.0   4.0   4.5      5.0  \n",
       "value                              3.5   4.0   4.5      5.0  \n",
       "atmosphere                         3.5   4.0   4.5      5.0  \n",
       "avg_rating                         3.5   4.0   4.5      5.0  "
      ]
     },
     "execution_count": 545,
     "metadata": {},
     "output_type": "execute_result"
    }
   ],
   "source": [
    "df_rev_rating.describe().T"
   ]
  },
  {
   "cell_type": "markdown",
   "id": "771f5878",
   "metadata": {},
   "source": []
  },
  {
   "cell_type": "markdown",
   "id": "29f8a167",
   "metadata": {},
   "source": [
    "**Correlation Test**"
   ]
  },
  {
   "cell_type": "code",
   "execution_count": 546,
   "id": "98f8bd5b",
   "metadata": {
    "ExecuteTime": {
     "end_time": "2023-01-10T23:18:05.647546Z",
     "start_time": "2023-01-10T23:18:05.233453Z"
    }
   },
   "outputs": [
    {
     "data": {
      "text/html": [
       "<div>\n",
       "<style scoped>\n",
       "    .dataframe tbody tr th:only-of-type {\n",
       "        vertical-align: middle;\n",
       "    }\n",
       "\n",
       "    .dataframe tbody tr th {\n",
       "        vertical-align: top;\n",
       "    }\n",
       "\n",
       "    .dataframe thead th {\n",
       "        text-align: right;\n",
       "    }\n",
       "</style>\n",
       "<table border=\"1\" class=\"dataframe\">\n",
       "  <thead>\n",
       "    <tr style=\"text-align: right;\">\n",
       "      <th></th>\n",
       "      <th>food</th>\n",
       "      <th>service</th>\n",
       "      <th>value</th>\n",
       "      <th>atmosphere</th>\n",
       "      <th>avg_rating</th>\n",
       "    </tr>\n",
       "  </thead>\n",
       "  <tbody>\n",
       "    <tr>\n",
       "      <th>excellent</th>\n",
       "      <td>0.128760</td>\n",
       "      <td>0.134771</td>\n",
       "      <td>0.099463</td>\n",
       "      <td>0.167081</td>\n",
       "      <td>0.093861</td>\n",
       "    </tr>\n",
       "    <tr>\n",
       "      <th>very_good</th>\n",
       "      <td>0.016350</td>\n",
       "      <td>0.020838</td>\n",
       "      <td>-0.010068</td>\n",
       "      <td>0.067123</td>\n",
       "      <td>0.011779</td>\n",
       "    </tr>\n",
       "    <tr>\n",
       "      <th>average</th>\n",
       "      <td>-0.060098</td>\n",
       "      <td>-0.051280</td>\n",
       "      <td>-0.083435</td>\n",
       "      <td>-0.014837</td>\n",
       "      <td>-0.043494</td>\n",
       "    </tr>\n",
       "    <tr>\n",
       "      <th>poor</th>\n",
       "      <td>-0.103778</td>\n",
       "      <td>-0.093287</td>\n",
       "      <td>-0.125787</td>\n",
       "      <td>-0.057878</td>\n",
       "      <td>-0.076040</td>\n",
       "    </tr>\n",
       "    <tr>\n",
       "      <th>terrible</th>\n",
       "      <td>-0.190457</td>\n",
       "      <td>-0.181710</td>\n",
       "      <td>-0.195707</td>\n",
       "      <td>-0.139057</td>\n",
       "      <td>-0.155270</td>\n",
       "    </tr>\n",
       "    <tr>\n",
       "      <th>total_reviews_count</th>\n",
       "      <td>0.056542</td>\n",
       "      <td>0.037101</td>\n",
       "      <td>-0.005211</td>\n",
       "      <td>0.093915</td>\n",
       "      <td>0.036336</td>\n",
       "    </tr>\n",
       "    <tr>\n",
       "      <th>reviews_count_in_default_language</th>\n",
       "      <td>0.054864</td>\n",
       "      <td>0.061827</td>\n",
       "      <td>0.026536</td>\n",
       "      <td>0.100821</td>\n",
       "      <td>0.038642</td>\n",
       "    </tr>\n",
       "  </tbody>\n",
       "</table>\n",
       "</div>"
      ],
      "text/plain": [
       "                                       food   service     value  atmosphere  \\\n",
       "excellent                          0.128760  0.134771  0.099463    0.167081   \n",
       "very_good                          0.016350  0.020838 -0.010068    0.067123   \n",
       "average                           -0.060098 -0.051280 -0.083435   -0.014837   \n",
       "poor                              -0.103778 -0.093287 -0.125787   -0.057878   \n",
       "terrible                          -0.190457 -0.181710 -0.195707   -0.139057   \n",
       "total_reviews_count                0.056542  0.037101 -0.005211    0.093915   \n",
       "reviews_count_in_default_language  0.054864  0.061827  0.026536    0.100821   \n",
       "\n",
       "                                   avg_rating  \n",
       "excellent                            0.093861  \n",
       "very_good                            0.011779  \n",
       "average                             -0.043494  \n",
       "poor                                -0.076040  \n",
       "terrible                            -0.155270  \n",
       "total_reviews_count                  0.036336  \n",
       "reviews_count_in_default_language    0.038642  "
      ]
     },
     "execution_count": 546,
     "metadata": {},
     "output_type": "execute_result"
    }
   ],
   "source": [
    "df_rev_rating.corr().iloc[:7,7:]"
   ]
  },
  {
   "cell_type": "markdown",
   "id": "199c975c",
   "metadata": {},
   "source": [
    "A common threshold for determining statistical significance is an alpha level of 0.05. With this level, a correlation coefficient of 0.1 or greater might be considered a weak correlation, a correlation coefficient of 0.3 or greater would be considered a moderate correlation, and a correlation coefficient of 0.5 or greater would be considered a strong correlation.\n",
    "\n",
    "In the correlation matrix above, we see that only some of the rating columns are weakly correlated with review colums and the rest of the columns are not correlated at all. "
   ]
  },
  {
   "cell_type": "code",
   "execution_count": 547,
   "id": "bceb757b",
   "metadata": {
    "ExecuteTime": {
     "end_time": "2023-01-10T23:18:06.205673Z",
     "start_time": "2023-01-10T23:18:05.649547Z"
    }
   },
   "outputs": [
    {
     "data": {
      "text/plain": [
       "<AxesSubplot:>"
      ]
     },
     "execution_count": 547,
     "metadata": {},
     "output_type": "execute_result"
    },
    {
     "data": {
      "image/png": "[encoded data removed]",
      "text/plain": [
       "<Figure size 640x480 with 2 Axes>"
      ]
     },
     "metadata": {},
     "output_type": "display_data"
    }
   ],
   "source": [
    "sns.heatmap(df_rev_rating.corr().iloc[:7,7:])"
   ]
  },
  {
   "cell_type": "markdown",
   "id": "3bf425b9",
   "metadata": {},
   "source": [
    "According to these results, the review columns are not correlated with the rating columns."
   ]
  },
  {
   "cell_type": "markdown",
   "id": "248bc18b",
   "metadata": {},
   "source": []
  },
  {
   "cell_type": "markdown",
   "id": "f14df94a",
   "metadata": {},
   "source": [
    "#### Are vegetarian-friendly restaurants better than non-vegetarian ones?\n",
    "\n",
    "This question requests us to test whether there is a statistically significant rating difference between vegetarian and non-vegetarian restaurants. We will test this hypothesis by using independent samples t test."
   ]
  },
  {
   "cell_type": "markdown",
   "id": "a80c0b96",
   "metadata": {},
   "source": [
    "First, let's see the number of vegetarian and non-vegetarian restaurants:"
   ]
  },
  {
   "cell_type": "code",
   "execution_count": 548,
   "id": "e9aa2b7c",
   "metadata": {
    "ExecuteTime": {
     "end_time": "2023-01-10T23:18:06.237680Z",
     "start_time": "2023-01-10T23:18:06.207673Z"
    }
   },
   "outputs": [
    {
     "data": {
      "text/plain": [
       "N    759380\n",
       "Y    324017\n",
       "Name: vegetarian_friendly, dtype: int64"
      ]
     },
     "execution_count": 548,
     "metadata": {},
     "output_type": "execute_result"
    }
   ],
   "source": [
    "df_dataset[\"vegetarian_friendly\"].value_counts(dropna=False)"
   ]
  },
  {
   "cell_type": "markdown",
   "id": "c0a2be64",
   "metadata": {},
   "source": [
    "The percentage of vegetarian and non-vegetarian restaurants:"
   ]
  },
  {
   "cell_type": "code",
   "execution_count": 549,
   "id": "89862466",
   "metadata": {
    "ExecuteTime": {
     "end_time": "2023-01-10T23:18:06.269686Z",
     "start_time": "2023-01-10T23:18:06.238680Z"
    }
   },
   "outputs": [
    {
     "data": {
      "text/plain": [
       "N    0.700925\n",
       "Y    0.299075\n",
       "Name: vegetarian_friendly, dtype: float64"
      ]
     },
     "execution_count": 549,
     "metadata": {},
     "output_type": "execute_result"
    }
   ],
   "source": [
    "df_dataset[\"vegetarian_friendly\"].value_counts(dropna=False, normalize=True)"
   ]
  },
  {
   "cell_type": "markdown",
   "id": "b40bbc83",
   "metadata": {},
   "source": [
    "Mean values of average rating scores for vegetarian and non-vegetarian restaurants:"
   ]
  },
  {
   "cell_type": "code",
   "execution_count": 550,
   "id": "c39f773d",
   "metadata": {
    "ExecuteTime": {
     "end_time": "2023-01-10T23:18:06.333702Z",
     "start_time": "2023-01-10T23:18:06.270687Z"
    }
   },
   "outputs": [
    {
     "data": {
      "text/plain": [
       "vegetarian_friendly\n",
       "N    3.967643\n",
       "Y    4.176086\n",
       "Name: avg_rating, dtype: float64"
      ]
     },
     "execution_count": 550,
     "metadata": {},
     "output_type": "execute_result"
    }
   ],
   "source": [
    "df_dataset.groupby(\"vegetarian_friendly\").avg_rating.mean()"
   ]
  },
  {
   "cell_type": "markdown",
   "id": "c605f2db",
   "metadata": {},
   "source": [
    "Now, we will calculate the t statistics:"
   ]
  },
  {
   "cell_type": "code",
   "execution_count": 551,
   "id": "1b37ff35",
   "metadata": {
    "ExecuteTime": {
     "end_time": "2023-01-10T23:18:07.021857Z",
     "start_time": "2023-01-10T23:18:06.335703Z"
    }
   },
   "outputs": [],
   "source": [
    "X1 = df_dataset[df_dataset[\"vegetarian_friendly\"] == \"N\"].avg_rating\n",
    "X2 = df_dataset[df_dataset[\"vegetarian_friendly\"] == \"Y\"].avg_rating"
   ]
  },
  {
   "cell_type": "code",
   "execution_count": 552,
   "id": "bc2191c8",
   "metadata": {
    "ExecuteTime": {
     "end_time": "2023-01-10T23:18:07.229903Z",
     "start_time": "2023-01-10T23:18:07.023857Z"
    }
   },
   "outputs": [
    {
     "data": {
      "text/html": [
       "<div>\n",
       "<style scoped>\n",
       "    .dataframe tbody tr th:only-of-type {\n",
       "        vertical-align: middle;\n",
       "    }\n",
       "\n",
       "    .dataframe tbody tr th {\n",
       "        vertical-align: top;\n",
       "    }\n",
       "\n",
       "    .dataframe thead th {\n",
       "        text-align: right;\n",
       "    }\n",
       "</style>\n",
       "<table border=\"1\" class=\"dataframe\">\n",
       "  <thead>\n",
       "    <tr style=\"text-align: right;\">\n",
       "      <th></th>\n",
       "      <th>Variable</th>\n",
       "      <th>N</th>\n",
       "      <th>Mean</th>\n",
       "      <th>SD</th>\n",
       "      <th>SE</th>\n",
       "      <th>95% Conf.</th>\n",
       "      <th>Interval</th>\n",
       "    </tr>\n",
       "  </thead>\n",
       "  <tbody>\n",
       "    <tr>\n",
       "      <th>0</th>\n",
       "      <td>Non-vegetarian</td>\n",
       "      <td>663433.0</td>\n",
       "      <td>3.967643</td>\n",
       "      <td>0.803768</td>\n",
       "      <td>0.000987</td>\n",
       "      <td>3.965709</td>\n",
       "      <td>3.969577</td>\n",
       "    </tr>\n",
       "    <tr>\n",
       "      <th>1</th>\n",
       "      <td>Vegetarian</td>\n",
       "      <td>323328.0</td>\n",
       "      <td>4.176086</td>\n",
       "      <td>0.446865</td>\n",
       "      <td>0.000786</td>\n",
       "      <td>4.174546</td>\n",
       "      <td>4.177626</td>\n",
       "    </tr>\n",
       "    <tr>\n",
       "      <th>2</th>\n",
       "      <td>combined</td>\n",
       "      <td>986761.0</td>\n",
       "      <td>4.035943</td>\n",
       "      <td>0.713694</td>\n",
       "      <td>0.000718</td>\n",
       "      <td>4.034535</td>\n",
       "      <td>4.037351</td>\n",
       "    </tr>\n",
       "  </tbody>\n",
       "</table>\n",
       "</div>"
      ],
      "text/plain": [
       "         Variable         N      Mean        SD        SE  95% Conf.  Interval\n",
       "0  Non-vegetarian  663433.0  3.967643  0.803768  0.000987   3.965709  3.969577\n",
       "1      Vegetarian  323328.0  4.176086  0.446865  0.000786   4.174546  4.177626\n",
       "2        combined  986761.0  4.035943  0.713694  0.000718   4.034535  4.037351"
      ]
     },
     "execution_count": 552,
     "metadata": {},
     "output_type": "execute_result"
    }
   ],
   "source": [
    "# !pip install researchpy\n",
    "import researchpy as rp\n",
    "import scipy.stats as stats\n",
    "\n",
    "summary, results = rp.ttest(group1= X1, group1_name= \"Non-vegetarian\",\n",
    "                            group2= X2, group2_name= \"Vegetarian\")\n",
    "\n",
    "pd.DataFrame(summary)"
   ]
  },
  {
   "cell_type": "markdown",
   "id": "90c3a5b6",
   "metadata": {},
   "source": [
    "According to the summary table above, mean rating score for vegetarian restaurans is 4.176086 and the mean rating score for non-vegetarian restaurants is 3.967643. This finding tells us that vegetarian restaurants have only slightly higher average rating scores than non-vegetarian restaurants.\n",
    "\n",
    "The results table below shows that p-value = 0.000. It means that we reject that null hypothesis (there is no significant difference between two groups) because the average rating difference between vegetarian and non-vegetarian restaurants is statistically significant (i.e., p-value is smaller than 0.05). "
   ]
  },
  {
   "cell_type": "code",
   "execution_count": 553,
   "id": "f268896d",
   "metadata": {
    "ExecuteTime": {
     "end_time": "2023-01-10T23:18:07.245907Z",
     "start_time": "2023-01-10T23:18:07.231904Z"
    }
   },
   "outputs": [
    {
     "data": {
      "text/html": [
       "<div>\n",
       "<style scoped>\n",
       "    .dataframe tbody tr th:only-of-type {\n",
       "        vertical-align: middle;\n",
       "    }\n",
       "\n",
       "    .dataframe tbody tr th {\n",
       "        vertical-align: top;\n",
       "    }\n",
       "\n",
       "    .dataframe thead th {\n",
       "        text-align: right;\n",
       "    }\n",
       "</style>\n",
       "<table border=\"1\" class=\"dataframe\">\n",
       "  <thead>\n",
       "    <tr style=\"text-align: right;\">\n",
       "      <th></th>\n",
       "      <th>Independent t-test</th>\n",
       "      <th>results</th>\n",
       "    </tr>\n",
       "  </thead>\n",
       "  <tbody>\n",
       "    <tr>\n",
       "      <th>0</th>\n",
       "      <td>Difference (Non-vegetarian - Vegetarian) =</td>\n",
       "      <td>-0.2084</td>\n",
       "    </tr>\n",
       "    <tr>\n",
       "      <th>1</th>\n",
       "      <td>Degrees of freedom =</td>\n",
       "      <td>986759.0000</td>\n",
       "    </tr>\n",
       "    <tr>\n",
       "      <th>2</th>\n",
       "      <td>t =</td>\n",
       "      <td>-137.4700</td>\n",
       "    </tr>\n",
       "    <tr>\n",
       "      <th>3</th>\n",
       "      <td>Two side test p value =</td>\n",
       "      <td>0.0000</td>\n",
       "    </tr>\n",
       "    <tr>\n",
       "      <th>4</th>\n",
       "      <td>Difference &lt; 0 p value =</td>\n",
       "      <td>0.0000</td>\n",
       "    </tr>\n",
       "    <tr>\n",
       "      <th>5</th>\n",
       "      <td>Difference &gt; 0 p value =</td>\n",
       "      <td>1.0000</td>\n",
       "    </tr>\n",
       "    <tr>\n",
       "      <th>6</th>\n",
       "      <td>Cohen's d =</td>\n",
       "      <td>-0.2948</td>\n",
       "    </tr>\n",
       "    <tr>\n",
       "      <th>7</th>\n",
       "      <td>Hedge's g =</td>\n",
       "      <td>-0.2948</td>\n",
       "    </tr>\n",
       "    <tr>\n",
       "      <th>8</th>\n",
       "      <td>Glass's delta1 =</td>\n",
       "      <td>-0.2593</td>\n",
       "    </tr>\n",
       "    <tr>\n",
       "      <th>9</th>\n",
       "      <td>Point-Biserial r =</td>\n",
       "      <td>-0.1371</td>\n",
       "    </tr>\n",
       "  </tbody>\n",
       "</table>\n",
       "</div>"
      ],
      "text/plain": [
       "                            Independent t-test      results\n",
       "0  Difference (Non-vegetarian - Vegetarian) =       -0.2084\n",
       "1                        Degrees of freedom =   986759.0000\n",
       "2                                         t =     -137.4700\n",
       "3                     Two side test p value =        0.0000\n",
       "4                    Difference < 0 p value =        0.0000\n",
       "5                    Difference > 0 p value =        1.0000\n",
       "6                                 Cohen's d =       -0.2948\n",
       "7                                 Hedge's g =       -0.2948\n",
       "8                            Glass's delta1 =       -0.2593\n",
       "9                          Point-Biserial r =       -0.1371"
      ]
     },
     "execution_count": 553,
     "metadata": {},
     "output_type": "execute_result"
    }
   ],
   "source": [
    "pd.DataFrame(results)"
   ]
  },
  {
   "cell_type": "code",
   "execution_count": null,
   "id": "7eb7d28a",
   "metadata": {},
   "outputs": [],
   "source": []
  },
  {
   "cell_type": "markdown",
   "id": "b152b0e1",
   "metadata": {},
   "source": [
    "#### Are there any significantly more expensive cuisines?"
   ]
  },
  {
   "cell_type": "code",
   "execution_count": 554,
   "id": "d01a06ab",
   "metadata": {
    "ExecuteTime": {
     "end_time": "2023-01-10T23:18:07.389921Z",
     "start_time": "2023-01-10T23:18:07.246907Z"
    }
   },
   "outputs": [
    {
     "data": {
      "text/plain": [
       "Italian                                                          53243\n",
       "French                                                           39103\n",
       "Cafe                                                             35009\n",
       "Spanish                                                          27339\n",
       "Italian, Pizza                                                   26998\n",
       "                                                                 ...  \n",
       "Italian, International, Mediterranean, Pizza, European               1\n",
       "Italian, Bar, Pizza, Mediterranean, European, Gastropub              1\n",
       "Italian, Mediterranean, Pizza, Wine Bar                              1\n",
       "Grill, Fusion, Cafe, Spanish, Wine Bar                               1\n",
       "French, American, Bar, International, European, Pub, Romanian        1\n",
       "Name: cuisines, Length: 97741, dtype: int64"
      ]
     },
     "execution_count": 554,
     "metadata": {},
     "output_type": "execute_result"
    }
   ],
   "source": [
    "df_dataset.cuisines.value_counts()"
   ]
  },
  {
   "cell_type": "markdown",
   "id": "bf89b922",
   "metadata": {},
   "source": [
    "Some restaurants serve more than one cuisine. Therefore, it's not possible to compare which cuisine is more expensive than any one of the rest. As a result, we need to eliminate these restaurants from our analysis. Since majority of restaurants serve only one cuisine, there will not be much loss once we remove the restaurants that serve food from multiple cuisines. \n",
    "\n",
    "For this reason, we will first create a single_cuisine column and mark the multiple cuisines with NaN. "
   ]
  },
  {
   "cell_type": "code",
   "execution_count": 555,
   "id": "fe1b2081",
   "metadata": {
    "ExecuteTime": {
     "end_time": "2023-01-10T23:18:07.774009Z",
     "start_time": "2023-01-10T23:18:07.390923Z"
    }
   },
   "outputs": [
    {
     "data": {
      "text/plain": [
       "0          False\n",
       "1            NaN\n",
       "2           True\n",
       "3          False\n",
       "4          False\n",
       "           ...  \n",
       "1083392      NaN\n",
       "1083393    False\n",
       "1083394      NaN\n",
       "1083395     True\n",
       "1083396    False\n",
       "Name: single_cuisine, Length: 1083397, dtype: object"
      ]
     },
     "execution_count": 555,
     "metadata": {},
     "output_type": "execute_result"
    }
   ],
   "source": [
    "df_dataset[\"single_cuisine\"] = df_dataset.cuisines.str.contains(\",\")\n",
    "df_dataset[\"single_cuisine\"]\n",
    "\n",
    "# restaurants with multiple cuisines have a comma (,) value"
   ]
  },
  {
   "cell_type": "code",
   "execution_count": 556,
   "id": "70031582",
   "metadata": {
    "ExecuteTime": {
     "end_time": "2023-01-10T23:18:07.950062Z",
     "start_time": "2023-01-10T23:18:07.775009Z"
    }
   },
   "outputs": [],
   "source": [
    "df_dataset[\"single_cuisine\"] = df_dataset[\"single_cuisine\"].astype(\"string\")"
   ]
  },
  {
   "cell_type": "code",
   "execution_count": 557,
   "id": "7d041dae",
   "metadata": {
    "ExecuteTime": {
     "end_time": "2023-01-10T23:18:08.062074Z",
     "start_time": "2023-01-10T23:18:07.954050Z"
    }
   },
   "outputs": [
    {
     "data": {
      "text/plain": [
       "0          False\n",
       "1           <NA>\n",
       "2           <NA>\n",
       "3          False\n",
       "4          False\n",
       "           ...  \n",
       "1083392     <NA>\n",
       "1083393    False\n",
       "1083394     <NA>\n",
       "1083395     <NA>\n",
       "1083396    False\n",
       "Name: single_cuisine, Length: 1083397, dtype: string"
      ]
     },
     "execution_count": 557,
     "metadata": {},
     "output_type": "execute_result"
    }
   ],
   "source": [
    "df_dataset[\"single_cuisine\"] = df_dataset[\"single_cuisine\"].replace(\"True\", np.nan)\n",
    "df_dataset[\"single_cuisine\"]\n",
    "\n",
    "# True values mean that the restaurant serve multiple cuisines."
   ]
  },
  {
   "cell_type": "code",
   "execution_count": 558,
   "id": "56d41baf",
   "metadata": {
    "ExecuteTime": {
     "end_time": "2023-01-10T23:18:08.094062Z",
     "start_time": "2023-01-10T23:18:08.064075Z"
    }
   },
   "outputs": [
    {
     "data": {
      "text/plain": [
       "False    286382\n",
       "Name: single_cuisine, dtype: Int64"
      ]
     },
     "execution_count": 558,
     "metadata": {},
     "output_type": "execute_result"
    }
   ],
   "source": [
    "df_dataset[\"single_cuisine\"].value_counts()"
   ]
  },
  {
   "cell_type": "markdown",
   "id": "ee9afa54",
   "metadata": {},
   "source": [
    "The False values above indicate that these restaurants serve food from only one cuisine."
   ]
  },
  {
   "cell_type": "code",
   "execution_count": 559,
   "id": "58c90f5d",
   "metadata": {
    "ExecuteTime": {
     "end_time": "2023-01-10T23:18:08.286105Z",
     "start_time": "2023-01-10T23:18:08.096062Z"
    }
   },
   "outputs": [],
   "source": [
    "df_cuisine_compare = df_dataset.dropna(subset='single_cuisine')"
   ]
  },
  {
   "cell_type": "code",
   "execution_count": 560,
   "id": "78cc6695",
   "metadata": {
    "ExecuteTime": {
     "end_time": "2023-01-10T23:18:08.302109Z",
     "start_time": "2023-01-10T23:18:08.288107Z"
    }
   },
   "outputs": [
    {
     "data": {
      "text/plain": [
       "(286382, 43)"
      ]
     },
     "execution_count": 560,
     "metadata": {},
     "output_type": "execute_result"
    }
   ],
   "source": [
    "df_cuisine_compare.shape"
   ]
  },
  {
   "cell_type": "markdown",
   "id": "68552720",
   "metadata": {},
   "source": [
    "There are 286382 rows of data on restaurants that serve food from only one cuisine."
   ]
  },
  {
   "cell_type": "code",
   "execution_count": 561,
   "id": "c6b74e7a",
   "metadata": {
    "ExecuteTime": {
     "end_time": "2023-01-10T23:18:08.334120Z",
     "start_time": "2023-01-10T23:18:08.303110Z"
    }
   },
   "outputs": [
    {
     "data": {
      "text/plain": [
       "Italian       53243\n",
       "French        39103\n",
       "Cafe          35009\n",
       "Spanish       27339\n",
       "Fast food     13803\n",
       "              ...  \n",
       "Slovenian         1\n",
       "Ecuadorean        1\n",
       "Sardinian         1\n",
       "Calabrian         1\n",
       "Albanian          1\n",
       "Name: cuisines, Length: 138, dtype: int64"
      ]
     },
     "execution_count": 561,
     "metadata": {},
     "output_type": "execute_result"
    }
   ],
   "source": [
    "df_cuisine_compare[\"cuisines\"].value_counts()"
   ]
  },
  {
   "cell_type": "markdown",
   "id": "902d4775",
   "metadata": {},
   "source": [
    "**Now, we have eliminated restaurants with multiple cuisines and there are only restaurants that serve food from a single cuisine**"
   ]
  },
  {
   "cell_type": "markdown",
   "id": "e90cadc9",
   "metadata": {},
   "source": [
    "There are two price columns in the dataset. However, unfortunately, neither \"price_range\" nor \"price_level\" are  reliable features to make an accurate comparison between different cuisines in terms of their price. In the last output below, it can be clearly seen that there is a mismatch between these two columns."
   ]
  },
  {
   "cell_type": "code",
   "execution_count": 562,
   "id": "7f412ba1",
   "metadata": {
    "ExecuteTime": {
     "end_time": "2023-01-10T23:19:44.224620Z",
     "start_time": "2023-01-10T23:19:44.198622Z"
    }
   },
   "outputs": [
    {
     "data": {
      "text/plain": [
       "€€-€€€    120214\n",
       "€          71261\n",
       "€€€€        5463\n",
       "Name: price_level, dtype: int64"
      ]
     },
     "execution_count": 562,
     "metadata": {},
     "output_type": "execute_result"
    }
   ],
   "source": [
    "df_cuisine_compare.price_level.value_counts()"
   ]
  },
  {
   "cell_type": "code",
   "execution_count": 476,
   "id": "ca379318",
   "metadata": {
    "ExecuteTime": {
     "end_time": "2023-01-10T22:07:05.010243Z",
     "start_time": "2023-01-10T22:07:04.981237Z"
    }
   },
   "outputs": [
    {
     "data": {
      "text/plain": [
       "€5-€15             1461\n",
       "€5-€10             1197\n",
       "€10-€30            1152\n",
       "€10-€20            1139\n",
       "€5-€20             1026\n",
       "                   ... \n",
       "€115-€575             1\n",
       "€17-€19               1\n",
       "€15-€195              1\n",
       "€1,682-€142,304       1\n",
       "€1-€41                1\n",
       "Name: price_range, Length: 3210, dtype: int64"
      ]
     },
     "execution_count": 476,
     "metadata": {},
     "output_type": "execute_result"
    }
   ],
   "source": [
    "df_cuisine_compare.price_range.value_counts()"
   ]
  },
  {
   "cell_type": "code",
   "execution_count": 577,
   "id": "be9da9ff",
   "metadata": {
    "ExecuteTime": {
     "end_time": "2023-01-10T23:28:03.318028Z",
     "start_time": "2023-01-10T23:28:03.287021Z"
    }
   },
   "outputs": [
    {
     "data": {
      "text/html": [
       "<div>\n",
       "<style scoped>\n",
       "    .dataframe tbody tr th:only-of-type {\n",
       "        vertical-align: middle;\n",
       "    }\n",
       "\n",
       "    .dataframe tbody tr th {\n",
       "        vertical-align: top;\n",
       "    }\n",
       "\n",
       "    .dataframe thead th {\n",
       "        text-align: right;\n",
       "    }\n",
       "</style>\n",
       "<table border=\"1\" class=\"dataframe\">\n",
       "  <thead>\n",
       "    <tr style=\"text-align: right;\">\n",
       "      <th></th>\n",
       "      <th>price_range</th>\n",
       "      <th>price_level</th>\n",
       "    </tr>\n",
       "  </thead>\n",
       "  <tbody>\n",
       "    <tr>\n",
       "      <th>87619</th>\n",
       "      <td>NaN</td>\n",
       "      <td>NaN</td>\n",
       "    </tr>\n",
       "    <tr>\n",
       "      <th>1039391</th>\n",
       "      <td>€1-€77</td>\n",
       "      <td>€€€€</td>\n",
       "    </tr>\n",
       "    <tr>\n",
       "      <th>143967</th>\n",
       "      <td>NaN</td>\n",
       "      <td>€€-€€€</td>\n",
       "    </tr>\n",
       "    <tr>\n",
       "      <th>56044</th>\n",
       "      <td>€8-€15</td>\n",
       "      <td>€€-€€€</td>\n",
       "    </tr>\n",
       "    <tr>\n",
       "      <th>5031</th>\n",
       "      <td>NaN</td>\n",
       "      <td>€</td>\n",
       "    </tr>\n",
       "    <tr>\n",
       "      <th>1035230</th>\n",
       "      <td>NaN</td>\n",
       "      <td>NaN</td>\n",
       "    </tr>\n",
       "    <tr>\n",
       "      <th>58218</th>\n",
       "      <td>NaN</td>\n",
       "      <td>NaN</td>\n",
       "    </tr>\n",
       "    <tr>\n",
       "      <th>479872</th>\n",
       "      <td>€2-€6</td>\n",
       "      <td>€</td>\n",
       "    </tr>\n",
       "    <tr>\n",
       "      <th>195455</th>\n",
       "      <td>NaN</td>\n",
       "      <td>NaN</td>\n",
       "    </tr>\n",
       "    <tr>\n",
       "      <th>570883</th>\n",
       "      <td>NaN</td>\n",
       "      <td>NaN</td>\n",
       "    </tr>\n",
       "    <tr>\n",
       "      <th>448791</th>\n",
       "      <td>NaN</td>\n",
       "      <td>€€-€€€</td>\n",
       "    </tr>\n",
       "    <tr>\n",
       "      <th>293282</th>\n",
       "      <td>NaN</td>\n",
       "      <td>NaN</td>\n",
       "    </tr>\n",
       "    <tr>\n",
       "      <th>923565</th>\n",
       "      <td>NaN</td>\n",
       "      <td>€€-€€€</td>\n",
       "    </tr>\n",
       "    <tr>\n",
       "      <th>765410</th>\n",
       "      <td>€8-€12</td>\n",
       "      <td>€€-€€€</td>\n",
       "    </tr>\n",
       "    <tr>\n",
       "      <th>412291</th>\n",
       "      <td>€37-€72</td>\n",
       "      <td>€€€€</td>\n",
       "    </tr>\n",
       "    <tr>\n",
       "      <th>790861</th>\n",
       "      <td>€18-€19</td>\n",
       "      <td>€€-€€€</td>\n",
       "    </tr>\n",
       "    <tr>\n",
       "      <th>426799</th>\n",
       "      <td>€6-€25</td>\n",
       "      <td>€€-€€€</td>\n",
       "    </tr>\n",
       "    <tr>\n",
       "      <th>378092</th>\n",
       "      <td>€5-€15</td>\n",
       "      <td>€€-€€€</td>\n",
       "    </tr>\n",
       "    <tr>\n",
       "      <th>1046567</th>\n",
       "      <td>NaN</td>\n",
       "      <td>NaN</td>\n",
       "    </tr>\n",
       "    <tr>\n",
       "      <th>242078</th>\n",
       "      <td>NaN</td>\n",
       "      <td>NaN</td>\n",
       "    </tr>\n",
       "    <tr>\n",
       "      <th>143989</th>\n",
       "      <td>NaN</td>\n",
       "      <td>€€-€€€</td>\n",
       "    </tr>\n",
       "    <tr>\n",
       "      <th>21694</th>\n",
       "      <td>NaN</td>\n",
       "      <td>€</td>\n",
       "    </tr>\n",
       "    <tr>\n",
       "      <th>353965</th>\n",
       "      <td>NaN</td>\n",
       "      <td>NaN</td>\n",
       "    </tr>\n",
       "    <tr>\n",
       "      <th>393295</th>\n",
       "      <td>NaN</td>\n",
       "      <td>€€-€€€</td>\n",
       "    </tr>\n",
       "    <tr>\n",
       "      <th>912430</th>\n",
       "      <td>NaN</td>\n",
       "      <td>NaN</td>\n",
       "    </tr>\n",
       "    <tr>\n",
       "      <th>337937</th>\n",
       "      <td>NaN</td>\n",
       "      <td>NaN</td>\n",
       "    </tr>\n",
       "    <tr>\n",
       "      <th>18122</th>\n",
       "      <td>NaN</td>\n",
       "      <td>€</td>\n",
       "    </tr>\n",
       "    <tr>\n",
       "      <th>1044254</th>\n",
       "      <td>NaN</td>\n",
       "      <td>NaN</td>\n",
       "    </tr>\n",
       "    <tr>\n",
       "      <th>124842</th>\n",
       "      <td>€18-€31</td>\n",
       "      <td>€€-€€€</td>\n",
       "    </tr>\n",
       "    <tr>\n",
       "      <th>469273</th>\n",
       "      <td>NaN</td>\n",
       "      <td>€€-€€€</td>\n",
       "    </tr>\n",
       "  </tbody>\n",
       "</table>\n",
       "</div>"
      ],
      "text/plain": [
       "        price_range price_level\n",
       "87619           NaN         NaN\n",
       "1039391      €1-€77        €€€€\n",
       "143967          NaN      €€-€€€\n",
       "56044        €8-€15      €€-€€€\n",
       "5031            NaN           €\n",
       "1035230         NaN         NaN\n",
       "58218           NaN         NaN\n",
       "479872        €2-€6           €\n",
       "195455          NaN         NaN\n",
       "570883          NaN         NaN\n",
       "448791          NaN      €€-€€€\n",
       "293282          NaN         NaN\n",
       "923565          NaN      €€-€€€\n",
       "765410       €8-€12      €€-€€€\n",
       "412291      €37-€72        €€€€\n",
       "790861      €18-€19      €€-€€€\n",
       "426799       €6-€25      €€-€€€\n",
       "378092       €5-€15      €€-€€€\n",
       "1046567         NaN         NaN\n",
       "242078          NaN         NaN\n",
       "143989          NaN      €€-€€€\n",
       "21694           NaN           €\n",
       "353965          NaN         NaN\n",
       "393295          NaN      €€-€€€\n",
       "912430          NaN         NaN\n",
       "337937          NaN         NaN\n",
       "18122           NaN           €\n",
       "1044254         NaN         NaN\n",
       "124842      €18-€31      €€-€€€\n",
       "469273          NaN      €€-€€€"
      ]
     },
     "execution_count": 577,
     "metadata": {},
     "output_type": "execute_result"
    }
   ],
   "source": [
    "df_cuisine_compare[[\"price_range\",\"price_level\"]].sample(30)"
   ]
  },
  {
   "cell_type": "code",
   "execution_count": null,
   "id": "a43f4150",
   "metadata": {},
   "outputs": [],
   "source": []
  },
  {
   "cell_type": "markdown",
   "id": "51d76d74",
   "metadata": {},
   "source": [
    "In order to answer the question whether there are any significantly more expensive cuisines, we need to create a reliable price benchmark to compare prices of different cuisines. For this reason, we will take the price_range column and take the higher value and record it as the highest price. Then, we will compare different cuisines' mean values of this new variable (highest_price). "
   ]
  },
  {
   "cell_type": "code",
   "execution_count": 477,
   "id": "78af4f53",
   "metadata": {
    "ExecuteTime": {
     "end_time": "2023-01-10T22:07:05.325314Z",
     "start_time": "2023-01-10T22:07:05.012244Z"
    }
   },
   "outputs": [
    {
     "data": {
      "text/plain": [
       "0           NaN\n",
       "3           NaN\n",
       "4           NaN\n",
       "5          29.0\n",
       "10          NaN\n",
       "           ... \n",
       "1083379     NaN\n",
       "1083382     NaN\n",
       "1083388     NaN\n",
       "1083393     NaN\n",
       "1083396     NaN\n",
       "Name: highest_price, Length: 286382, dtype: float64"
      ]
     },
     "execution_count": 477,
     "metadata": {},
     "output_type": "execute_result"
    }
   ],
   "source": [
    "df_cuisine_compare[\"highest_price\"] = df_cuisine_compare[\"price_range\"].str.extract(\"-€(\\d+)\").replace(\",\",\".\").astype(\"float\")\n",
    "df_cuisine_compare[\"highest_price\"]"
   ]
  },
  {
   "cell_type": "code",
   "execution_count": 478,
   "id": "1cc37a8c",
   "metadata": {
    "ExecuteTime": {
     "end_time": "2023-01-10T22:07:05.388329Z",
     "start_time": "2023-01-10T22:07:05.326314Z"
    }
   },
   "outputs": [],
   "source": [
    "df_cuisine_compare.dropna(subset=\"highest_price\", inplace=True)"
   ]
  },
  {
   "cell_type": "code",
   "execution_count": 479,
   "id": "2d39c350",
   "metadata": {
    "ExecuteTime": {
     "end_time": "2023-01-10T22:07:05.404332Z",
     "start_time": "2023-01-10T22:07:05.390331Z"
    }
   },
   "outputs": [
    {
     "data": {
      "text/html": [
       "<div>\n",
       "<style scoped>\n",
       "    .dataframe tbody tr th:only-of-type {\n",
       "        vertical-align: middle;\n",
       "    }\n",
       "\n",
       "    .dataframe tbody tr th {\n",
       "        vertical-align: top;\n",
       "    }\n",
       "\n",
       "    .dataframe thead th {\n",
       "        text-align: right;\n",
       "    }\n",
       "</style>\n",
       "<table border=\"1\" class=\"dataframe\">\n",
       "  <thead>\n",
       "    <tr style=\"text-align: right;\">\n",
       "      <th></th>\n",
       "      <th>cuisines</th>\n",
       "      <th>highest_price</th>\n",
       "    </tr>\n",
       "  </thead>\n",
       "  <tbody>\n",
       "    <tr>\n",
       "      <th>5</th>\n",
       "      <td>French</td>\n",
       "      <td>29.0</td>\n",
       "    </tr>\n",
       "    <tr>\n",
       "      <th>15</th>\n",
       "      <td>Pizza</td>\n",
       "      <td>30.0</td>\n",
       "    </tr>\n",
       "    <tr>\n",
       "      <th>20</th>\n",
       "      <td>French</td>\n",
       "      <td>23.0</td>\n",
       "    </tr>\n",
       "    <tr>\n",
       "      <th>29</th>\n",
       "      <td>French</td>\n",
       "      <td>40.0</td>\n",
       "    </tr>\n",
       "    <tr>\n",
       "      <th>41</th>\n",
       "      <td>French</td>\n",
       "      <td>20.0</td>\n",
       "    </tr>\n",
       "    <tr>\n",
       "      <th>...</th>\n",
       "      <td>...</td>\n",
       "      <td>...</td>\n",
       "    </tr>\n",
       "    <tr>\n",
       "      <th>1083314</th>\n",
       "      <td>European</td>\n",
       "      <td>2.0</td>\n",
       "    </tr>\n",
       "    <tr>\n",
       "      <th>1083321</th>\n",
       "      <td>Italian</td>\n",
       "      <td>4.0</td>\n",
       "    </tr>\n",
       "    <tr>\n",
       "      <th>1083323</th>\n",
       "      <td>Italian</td>\n",
       "      <td>20.0</td>\n",
       "    </tr>\n",
       "    <tr>\n",
       "      <th>1083341</th>\n",
       "      <td>Pizza</td>\n",
       "      <td>14.0</td>\n",
       "    </tr>\n",
       "    <tr>\n",
       "      <th>1083360</th>\n",
       "      <td>Italian</td>\n",
       "      <td>41.0</td>\n",
       "    </tr>\n",
       "  </tbody>\n",
       "</table>\n",
       "<p>61073 rows × 2 columns</p>\n",
       "</div>"
      ],
      "text/plain": [
       "         cuisines  highest_price\n",
       "5          French           29.0\n",
       "15          Pizza           30.0\n",
       "20         French           23.0\n",
       "29         French           40.0\n",
       "41         French           20.0\n",
       "...           ...            ...\n",
       "1083314  European            2.0\n",
       "1083321   Italian            4.0\n",
       "1083323   Italian           20.0\n",
       "1083341     Pizza           14.0\n",
       "1083360   Italian           41.0\n",
       "\n",
       "[61073 rows x 2 columns]"
      ]
     },
     "execution_count": 479,
     "metadata": {},
     "output_type": "execute_result"
    }
   ],
   "source": [
    "df_cuisine_compare[[\"cuisines\",\"highest_price\"]]"
   ]
  },
  {
   "cell_type": "code",
   "execution_count": 480,
   "id": "e3c0f30c",
   "metadata": {
    "ExecuteTime": {
     "end_time": "2023-01-10T22:07:05.420336Z",
     "start_time": "2023-01-10T22:07:05.405332Z"
    }
   },
   "outputs": [
    {
     "data": {
      "text/html": [
       "<div>\n",
       "<style scoped>\n",
       "    .dataframe tbody tr th:only-of-type {\n",
       "        vertical-align: middle;\n",
       "    }\n",
       "\n",
       "    .dataframe tbody tr th {\n",
       "        vertical-align: top;\n",
       "    }\n",
       "\n",
       "    .dataframe thead th {\n",
       "        text-align: right;\n",
       "    }\n",
       "</style>\n",
       "<table border=\"1\" class=\"dataframe\">\n",
       "  <thead>\n",
       "    <tr style=\"text-align: right;\">\n",
       "      <th></th>\n",
       "      <th>highest_price</th>\n",
       "    </tr>\n",
       "    <tr>\n",
       "      <th>cuisines</th>\n",
       "      <th></th>\n",
       "    </tr>\n",
       "  </thead>\n",
       "  <tbody>\n",
       "    <tr>\n",
       "      <th>Central European</th>\n",
       "      <td>77.619048</td>\n",
       "    </tr>\n",
       "    <tr>\n",
       "      <th>Scandinavian</th>\n",
       "      <td>76.384615</td>\n",
       "    </tr>\n",
       "    <tr>\n",
       "      <th>Croatian</th>\n",
       "      <td>69.692308</td>\n",
       "    </tr>\n",
       "    <tr>\n",
       "      <th>Swedish</th>\n",
       "      <td>64.107143</td>\n",
       "    </tr>\n",
       "    <tr>\n",
       "      <th>Beijing cuisine</th>\n",
       "      <td>61.500000</td>\n",
       "    </tr>\n",
       "    <tr>\n",
       "      <th>...</th>\n",
       "      <td>...</td>\n",
       "    </tr>\n",
       "    <tr>\n",
       "      <th>Street Food</th>\n",
       "      <td>12.948649</td>\n",
       "    </tr>\n",
       "    <tr>\n",
       "      <th>Soups</th>\n",
       "      <td>10.313725</td>\n",
       "    </tr>\n",
       "    <tr>\n",
       "      <th>Ukrainian</th>\n",
       "      <td>8.000000</td>\n",
       "    </tr>\n",
       "    <tr>\n",
       "      <th>Assyrian</th>\n",
       "      <td>8.000000</td>\n",
       "    </tr>\n",
       "    <tr>\n",
       "      <th>Taiwanese</th>\n",
       "      <td>7.000000</td>\n",
       "    </tr>\n",
       "  </tbody>\n",
       "</table>\n",
       "<p>128 rows × 1 columns</p>\n",
       "</div>"
      ],
      "text/plain": [
       "                  highest_price\n",
       "cuisines                       \n",
       "Central European      77.619048\n",
       "Scandinavian          76.384615\n",
       "Croatian              69.692308\n",
       "Swedish               64.107143\n",
       "Beijing cuisine       61.500000\n",
       "...                         ...\n",
       "Street Food           12.948649\n",
       "Soups                 10.313725\n",
       "Ukrainian              8.000000\n",
       "Assyrian               8.000000\n",
       "Taiwanese              7.000000\n",
       "\n",
       "[128 rows x 1 columns]"
      ]
     },
     "execution_count": 480,
     "metadata": {},
     "output_type": "execute_result"
    }
   ],
   "source": [
    "df_cuisine_compare.groupby(\"cuisines\")[\"highest_price\"].mean().sort_values(ascending=False).to_frame()"
   ]
  },
  {
   "cell_type": "markdown",
   "id": "c58f3f32",
   "metadata": {},
   "source": [
    "As we see in the dataframe above, some cuisines are significantly more expensive than other cuisines. For example, Central European cuisine's mean highest price is 77.619048, while Taiwainese cuisine's mean highest price is 7.000000. There is more than 10x price gap between Central European\tand Taiwanese cuisines.\n",
    "\n",
    "Likewise, we can compare top 25% and bottom 25% cuisines as well. "
   ]
  },
  {
   "cell_type": "code",
   "execution_count": null,
   "id": "cd00ab0a",
   "metadata": {},
   "outputs": [],
   "source": []
  },
  {
   "cell_type": "markdown",
   "id": "b56c24ab",
   "metadata": {},
   "source": [
    "**Top 25% price (most expensive) cuisines**"
   ]
  },
  {
   "cell_type": "code",
   "execution_count": 481,
   "id": "72d993f4",
   "metadata": {
    "ExecuteTime": {
     "end_time": "2023-01-10T22:07:05.436339Z",
     "start_time": "2023-01-10T22:07:05.421337Z"
    }
   },
   "outputs": [
    {
     "data": {
      "text/html": [
       "<div>\n",
       "<style scoped>\n",
       "    .dataframe tbody tr th:only-of-type {\n",
       "        vertical-align: middle;\n",
       "    }\n",
       "\n",
       "    .dataframe tbody tr th {\n",
       "        vertical-align: top;\n",
       "    }\n",
       "\n",
       "    .dataframe thead th {\n",
       "        text-align: right;\n",
       "    }\n",
       "</style>\n",
       "<table border=\"1\" class=\"dataframe\">\n",
       "  <thead>\n",
       "    <tr style=\"text-align: right;\">\n",
       "      <th></th>\n",
       "      <th>highest_price</th>\n",
       "    </tr>\n",
       "    <tr>\n",
       "      <th>cuisines</th>\n",
       "      <th></th>\n",
       "    </tr>\n",
       "  </thead>\n",
       "  <tbody>\n",
       "    <tr>\n",
       "      <th>Central European</th>\n",
       "      <td>77.619048</td>\n",
       "    </tr>\n",
       "    <tr>\n",
       "      <th>Scandinavian</th>\n",
       "      <td>76.384615</td>\n",
       "    </tr>\n",
       "    <tr>\n",
       "      <th>Croatian</th>\n",
       "      <td>69.692308</td>\n",
       "    </tr>\n",
       "    <tr>\n",
       "      <th>Swedish</th>\n",
       "      <td>64.107143</td>\n",
       "    </tr>\n",
       "    <tr>\n",
       "      <th>Beijing cuisine</th>\n",
       "      <td>61.500000</td>\n",
       "    </tr>\n",
       "    <tr>\n",
       "      <th>Lombard</th>\n",
       "      <td>57.500000</td>\n",
       "    </tr>\n",
       "    <tr>\n",
       "      <th>Emilian</th>\n",
       "      <td>50.000000</td>\n",
       "    </tr>\n",
       "    <tr>\n",
       "      <th>Campania</th>\n",
       "      <td>50.000000</td>\n",
       "    </tr>\n",
       "    <tr>\n",
       "      <th>Chilean</th>\n",
       "      <td>49.250000</td>\n",
       "    </tr>\n",
       "    <tr>\n",
       "      <th>Caucasian</th>\n",
       "      <td>47.375000</td>\n",
       "    </tr>\n",
       "    <tr>\n",
       "      <th>Scottish</th>\n",
       "      <td>47.360000</td>\n",
       "    </tr>\n",
       "    <tr>\n",
       "      <th>Catalan</th>\n",
       "      <td>44.433333</td>\n",
       "    </tr>\n",
       "    <tr>\n",
       "      <th>Peruvian</th>\n",
       "      <td>43.642857</td>\n",
       "    </tr>\n",
       "    <tr>\n",
       "      <th>Seafood</th>\n",
       "      <td>43.007890</td>\n",
       "    </tr>\n",
       "    <tr>\n",
       "      <th>Sri Lankan</th>\n",
       "      <td>40.400000</td>\n",
       "    </tr>\n",
       "    <tr>\n",
       "      <th>Sushi</th>\n",
       "      <td>39.868750</td>\n",
       "    </tr>\n",
       "    <tr>\n",
       "      <th>Wine Bar</th>\n",
       "      <td>38.952096</td>\n",
       "    </tr>\n",
       "    <tr>\n",
       "      <th>Japanese</th>\n",
       "      <td>38.040094</td>\n",
       "    </tr>\n",
       "    <tr>\n",
       "      <th>Danish</th>\n",
       "      <td>36.555556</td>\n",
       "    </tr>\n",
       "    <tr>\n",
       "      <th>Northern-Italian</th>\n",
       "      <td>36.542636</td>\n",
       "    </tr>\n",
       "    <tr>\n",
       "      <th>Japanese Fusion</th>\n",
       "      <td>36.379310</td>\n",
       "    </tr>\n",
       "    <tr>\n",
       "      <th>Contemporary</th>\n",
       "      <td>35.966245</td>\n",
       "    </tr>\n",
       "    <tr>\n",
       "      <th>Southern-Italian</th>\n",
       "      <td>35.815287</td>\n",
       "    </tr>\n",
       "    <tr>\n",
       "      <th>Central Asian</th>\n",
       "      <td>34.666667</td>\n",
       "    </tr>\n",
       "    <tr>\n",
       "      <th>Bangladeshi</th>\n",
       "      <td>34.000000</td>\n",
       "    </tr>\n",
       "    <tr>\n",
       "      <th>Romana</th>\n",
       "      <td>34.000000</td>\n",
       "    </tr>\n",
       "    <tr>\n",
       "      <th>Fusion</th>\n",
       "      <td>33.205714</td>\n",
       "    </tr>\n",
       "    <tr>\n",
       "      <th>Uzbek</th>\n",
       "      <td>33.000000</td>\n",
       "    </tr>\n",
       "    <tr>\n",
       "      <th>Steakhouse</th>\n",
       "      <td>32.682720</td>\n",
       "    </tr>\n",
       "    <tr>\n",
       "      <th>Brazilian</th>\n",
       "      <td>32.263158</td>\n",
       "    </tr>\n",
       "    <tr>\n",
       "      <th>Argentinian</th>\n",
       "      <td>31.640000</td>\n",
       "    </tr>\n",
       "    <tr>\n",
       "      <th>Sicilian</th>\n",
       "      <td>31.250000</td>\n",
       "    </tr>\n",
       "  </tbody>\n",
       "</table>\n",
       "</div>"
      ],
      "text/plain": [
       "                  highest_price\n",
       "cuisines                       \n",
       "Central European      77.619048\n",
       "Scandinavian          76.384615\n",
       "Croatian              69.692308\n",
       "Swedish               64.107143\n",
       "Beijing cuisine       61.500000\n",
       "Lombard               57.500000\n",
       "Emilian               50.000000\n",
       "Campania              50.000000\n",
       "Chilean               49.250000\n",
       "Caucasian             47.375000\n",
       "Scottish              47.360000\n",
       "Catalan               44.433333\n",
       "Peruvian              43.642857\n",
       "Seafood               43.007890\n",
       "Sri Lankan            40.400000\n",
       "Sushi                 39.868750\n",
       "Wine Bar              38.952096\n",
       "Japanese              38.040094\n",
       "Danish                36.555556\n",
       "Northern-Italian      36.542636\n",
       "Japanese Fusion       36.379310\n",
       "Contemporary          35.966245\n",
       "Southern-Italian      35.815287\n",
       "Central Asian         34.666667\n",
       "Bangladeshi           34.000000\n",
       "Romana                34.000000\n",
       "Fusion                33.205714\n",
       "Uzbek                 33.000000\n",
       "Steakhouse            32.682720\n",
       "Brazilian             32.263158\n",
       "Argentinian           31.640000\n",
       "Sicilian              31.250000"
      ]
     },
     "execution_count": 481,
     "metadata": {},
     "output_type": "execute_result"
    }
   ],
   "source": [
    "df_cuisine_compare.groupby(\"cuisines\")[\"highest_price\"].mean().sort_values(ascending=False).to_frame().head(32)"
   ]
  },
  {
   "cell_type": "markdown",
   "id": "f8989218",
   "metadata": {},
   "source": [
    "As we see below, top 25% most expensive cuisines' mean price is 44.284388."
   ]
  },
  {
   "cell_type": "code",
   "execution_count": 482,
   "id": "d3054b3e",
   "metadata": {
    "ExecuteTime": {
     "end_time": "2023-01-10T22:07:05.452343Z",
     "start_time": "2023-01-10T22:07:05.437340Z"
    }
   },
   "outputs": [
    {
     "data": {
      "text/plain": [
       "highest_price    44.284388\n",
       "dtype: float64"
      ]
     },
     "execution_count": 482,
     "metadata": {},
     "output_type": "execute_result"
    }
   ],
   "source": [
    "Top25percent_cuisine_mean_score = df_cuisine_compare.groupby(\"cuisines\")[\"highest_price\"].mean().sort_values(ascending=False).to_frame().head(32).mean()\n",
    "Top25percent_cuisine_mean_score"
   ]
  },
  {
   "cell_type": "markdown",
   "id": "64781c5b",
   "metadata": {
    "ExecuteTime": {
     "end_time": "2023-01-10T21:08:24.064562Z",
     "start_time": "2023-01-10T21:08:24.046558Z"
    }
   },
   "source": [
    "However, the bottom 25% price (least expensive) cuisines' mean price is only 15.786838. "
   ]
  },
  {
   "cell_type": "code",
   "execution_count": 483,
   "id": "ef544a0a",
   "metadata": {
    "ExecuteTime": {
     "end_time": "2023-01-10T22:07:05.467346Z",
     "start_time": "2023-01-10T22:07:05.453343Z"
    }
   },
   "outputs": [
    {
     "data": {
      "text/plain": [
       "highest_price    15.786838\n",
       "dtype: float64"
      ]
     },
     "execution_count": 483,
     "metadata": {},
     "output_type": "execute_result"
    }
   ],
   "source": [
    "least_expensive_cuisines = df_cuisine_compare.groupby(\"cuisines\")[\"highest_price\"].mean().sort_values(ascending=True).to_frame().head(32).mean()\n",
    "least_expensive_cuisines"
   ]
  },
  {
   "cell_type": "markdown",
   "id": "9d0049bb",
   "metadata": {},
   "source": [
    "As a result, \"Yes, there are some cuisines that are significantly more expensive than others\"."
   ]
  },
  {
   "cell_type": "code",
   "execution_count": null,
   "id": "9087b0e3",
   "metadata": {},
   "outputs": [],
   "source": []
  },
  {
   "cell_type": "markdown",
   "id": "f31e075a",
   "metadata": {},
   "source": [
    "### Business-specific"
   ]
  },
  {
   "cell_type": "markdown",
   "id": "e00ff931",
   "metadata": {},
   "source": [
    "#### In the assets directory, you will see a very small dataset called europe_capitals_population_and_area.csv. A gluten-free restaurant wants to open a new restaurant in a European capital where gluten-free restaurants are underrepresented. Assuming there are no other factors, except population and gluten-free restaurant density, what would be the top 5 capitals to open that restaurant?"
   ]
  },
  {
   "cell_type": "code",
   "execution_count": 484,
   "id": "1ff53dcb",
   "metadata": {
    "ExecuteTime": {
     "end_time": "2023-01-10T22:07:05.483350Z",
     "start_time": "2023-01-10T22:07:05.468347Z"
    }
   },
   "outputs": [
    {
     "data": {
      "text/html": [
       "<div>\n",
       "<style scoped>\n",
       "    .dataframe tbody tr th:only-of-type {\n",
       "        vertical-align: middle;\n",
       "    }\n",
       "\n",
       "    .dataframe tbody tr th {\n",
       "        vertical-align: top;\n",
       "    }\n",
       "\n",
       "    .dataframe thead th {\n",
       "        text-align: right;\n",
       "    }\n",
       "</style>\n",
       "<table border=\"1\" class=\"dataframe\">\n",
       "  <thead>\n",
       "    <tr style=\"text-align: right;\">\n",
       "      <th></th>\n",
       "      <th>CityNo</th>\n",
       "      <th>City</th>\n",
       "      <th>Country</th>\n",
       "      <th>Population</th>\n",
       "      <th>Area in km2</th>\n",
       "    </tr>\n",
       "  </thead>\n",
       "  <tbody>\n",
       "    <tr>\n",
       "      <th>0</th>\n",
       "      <td>1</td>\n",
       "      <td>Amsterdam</td>\n",
       "      <td>Netherland</td>\n",
       "      <td>851573</td>\n",
       "      <td>219,32</td>\n",
       "    </tr>\n",
       "    <tr>\n",
       "      <th>1</th>\n",
       "      <td>2</td>\n",
       "      <td>Athens</td>\n",
       "      <td>Greece</td>\n",
       "      <td>664046</td>\n",
       "      <td>2929</td>\n",
       "    </tr>\n",
       "    <tr>\n",
       "      <th>2</th>\n",
       "      <td>4</td>\n",
       "      <td>Barcelona</td>\n",
       "      <td>Spain</td>\n",
       "      <td>1620809</td>\n",
       "      <td>101,4</td>\n",
       "    </tr>\n",
       "    <tr>\n",
       "      <th>3</th>\n",
       "      <td>4</td>\n",
       "      <td>Berlin</td>\n",
       "      <td>Germany</td>\n",
       "      <td>3711930</td>\n",
       "      <td>891,7</td>\n",
       "    </tr>\n",
       "    <tr>\n",
       "      <th>4</th>\n",
       "      <td>5</td>\n",
       "      <td>Bratislava</td>\n",
       "      <td>Slovakia</td>\n",
       "      <td>424428</td>\n",
       "      <td>367,6</td>\n",
       "    </tr>\n",
       "  </tbody>\n",
       "</table>\n",
       "</div>"
      ],
      "text/plain": [
       "   CityNo        City     Country  Population Area in km2 \n",
       "0       1   Amsterdam  Netherland      851573       219,32\n",
       "1       2      Athens      Greece      664046         2929\n",
       "2       4   Barcelona       Spain     1620809        101,4\n",
       "3       4      Berlin     Germany     3711930        891,7\n",
       "4       5  Bratislava    Slovakia      424428        367,6"
      ]
     },
     "execution_count": 484,
     "metadata": {},
     "output_type": "execute_result"
    }
   ],
   "source": [
    "df_restaurants = pd.read_csv(\"europe_capitals_population_and_area.csv\", sep=\";\" )\n",
    "df_restaurants.head(5)"
   ]
  },
  {
   "cell_type": "code",
   "execution_count": 485,
   "id": "77787768",
   "metadata": {
    "ExecuteTime": {
     "end_time": "2023-01-10T22:07:05.499354Z",
     "start_time": "2023-01-10T22:07:05.485350Z"
    }
   },
   "outputs": [
    {
     "data": {
      "text/html": [
       "<pre style=\"white-space:pre;overflow-x:auto;line-height:normal;font-family:Menlo,'DejaVu Sans Mono',consolas,'Courier New',monospace\"><span style=\"color: #008080; text-decoration-color: #008080; font-weight: bold\">5</span> column names have been cleaned\n",
       "</pre>\n"
      ],
      "text/plain": [
       "\u001b[1;36m5\u001b[0m column names have been cleaned\n"
      ]
     },
     "metadata": {},
     "output_type": "display_data"
    },
    {
     "data": {
      "text/plain": [
       "Index(['city_no', 'city', 'country', 'population', 'area_in_km_2'], dtype='object')"
      ]
     },
     "execution_count": 485,
     "metadata": {},
     "output_type": "execute_result"
    }
   ],
   "source": [
    "from skimpy import clean_columns\n",
    "\n",
    "df_restaurants = clean_columns(df_restaurants)\n",
    "df_restaurants.columns"
   ]
  },
  {
   "cell_type": "code",
   "execution_count": 486,
   "id": "454e3d48",
   "metadata": {
    "ExecuteTime": {
     "end_time": "2023-01-10T22:07:05.515358Z",
     "start_time": "2023-01-10T22:07:05.503361Z"
    }
   },
   "outputs": [
    {
     "data": {
      "text/html": [
       "<div>\n",
       "<style scoped>\n",
       "    .dataframe tbody tr th:only-of-type {\n",
       "        vertical-align: middle;\n",
       "    }\n",
       "\n",
       "    .dataframe tbody tr th {\n",
       "        vertical-align: top;\n",
       "    }\n",
       "\n",
       "    .dataframe thead th {\n",
       "        text-align: right;\n",
       "    }\n",
       "</style>\n",
       "<table border=\"1\" class=\"dataframe\">\n",
       "  <thead>\n",
       "    <tr style=\"text-align: right;\">\n",
       "      <th></th>\n",
       "      <th>city_no</th>\n",
       "      <th>city</th>\n",
       "      <th>country</th>\n",
       "      <th>population</th>\n",
       "      <th>area_in_km_2</th>\n",
       "    </tr>\n",
       "  </thead>\n",
       "  <tbody>\n",
       "    <tr>\n",
       "      <th>0</th>\n",
       "      <td>1</td>\n",
       "      <td>Amsterdam</td>\n",
       "      <td>Netherland</td>\n",
       "      <td>851573</td>\n",
       "      <td>219,32</td>\n",
       "    </tr>\n",
       "    <tr>\n",
       "      <th>1</th>\n",
       "      <td>2</td>\n",
       "      <td>Athens</td>\n",
       "      <td>Greece</td>\n",
       "      <td>664046</td>\n",
       "      <td>2929</td>\n",
       "    </tr>\n",
       "    <tr>\n",
       "      <th>2</th>\n",
       "      <td>4</td>\n",
       "      <td>Barcelona</td>\n",
       "      <td>Spain</td>\n",
       "      <td>1620809</td>\n",
       "      <td>101,4</td>\n",
       "    </tr>\n",
       "    <tr>\n",
       "      <th>3</th>\n",
       "      <td>4</td>\n",
       "      <td>Berlin</td>\n",
       "      <td>Germany</td>\n",
       "      <td>3711930</td>\n",
       "      <td>891,7</td>\n",
       "    </tr>\n",
       "    <tr>\n",
       "      <th>4</th>\n",
       "      <td>5</td>\n",
       "      <td>Bratislava</td>\n",
       "      <td>Slovakia</td>\n",
       "      <td>424428</td>\n",
       "      <td>367,6</td>\n",
       "    </tr>\n",
       "  </tbody>\n",
       "</table>\n",
       "</div>"
      ],
      "text/plain": [
       "   city_no        city     country  population area_in_km_2\n",
       "0        1   Amsterdam  Netherland      851573       219,32\n",
       "1        2      Athens      Greece      664046         2929\n",
       "2        4   Barcelona       Spain     1620809        101,4\n",
       "3        4      Berlin     Germany     3711930        891,7\n",
       "4        5  Bratislava    Slovakia      424428        367,6"
      ]
     },
     "execution_count": 486,
     "metadata": {},
     "output_type": "execute_result"
    }
   ],
   "source": [
    "df_restaurants.head()"
   ]
  },
  {
   "cell_type": "code",
   "execution_count": 487,
   "id": "0707c7b5",
   "metadata": {
    "ExecuteTime": {
     "end_time": "2023-01-10T22:07:05.530361Z",
     "start_time": "2023-01-10T22:07:05.517358Z"
    }
   },
   "outputs": [
    {
     "name": "stdout",
     "output_type": "stream",
     "text": [
      "<class 'pandas.core.frame.DataFrame'>\n",
      "RangeIndex: 31 entries, 0 to 30\n",
      "Data columns (total 5 columns):\n",
      " #   Column        Non-Null Count  Dtype \n",
      "---  ------        --------------  ----- \n",
      " 0   city_no       31 non-null     int64 \n",
      " 1   city          31 non-null     object\n",
      " 2   country       31 non-null     object\n",
      " 3   population    31 non-null     int64 \n",
      " 4   area_in_km_2  31 non-null     object\n",
      "dtypes: int64(2), object(3)\n",
      "memory usage: 1.3+ KB\n"
     ]
    }
   ],
   "source": [
    "df_restaurants.info()"
   ]
  },
  {
   "cell_type": "markdown",
   "id": "643a0ebf",
   "metadata": {},
   "source": [
    "The area column has wrong data type. Now, we will change it into integer data type:"
   ]
  },
  {
   "cell_type": "code",
   "execution_count": 488,
   "id": "189b1a7f",
   "metadata": {
    "ExecuteTime": {
     "end_time": "2023-01-10T22:07:05.546364Z",
     "start_time": "2023-01-10T22:07:05.531361Z"
    }
   },
   "outputs": [
    {
     "data": {
      "text/plain": [
       "0      219.32\n",
       "1     2929.00\n",
       "2      101.40\n",
       "3      891.70\n",
       "4      367.60\n",
       "5      161.38\n",
       "6      525.20\n",
       "7       88.25\n",
       "8      115.00\n",
       "9      264.00\n",
       "10      15.92\n",
       "11     755.00\n",
       "12     184.50\n",
       "13     327.00\n",
       "14     100.00\n",
       "15     163.80\n",
       "16     607.00\n",
       "17    2586.40\n",
       "18      47.87\n",
       "19     604.30\n",
       "20     181.76\n",
       "21     310.43\n",
       "22      41.42\n",
       "23     454.00\n",
       "24     105.40\n",
       "25     298.00\n",
       "26    1285.00\n",
       "27     188.00\n",
       "28     414.60\n",
       "29     517.00\n",
       "30      87.93\n",
       "Name: area_in_km_2, dtype: float64"
      ]
     },
     "execution_count": 488,
     "metadata": {},
     "output_type": "execute_result"
    }
   ],
   "source": [
    "df_restaurants.area_in_km_2 = df_restaurants.area_in_km_2.str.replace(\",\", \".\").astype(\"float\")\n",
    "df_restaurants.area_in_km_2"
   ]
  },
  {
   "cell_type": "code",
   "execution_count": 489,
   "id": "9e94a2d6",
   "metadata": {
    "ExecuteTime": {
     "end_time": "2023-01-10T22:07:05.562045Z",
     "start_time": "2023-01-10T22:07:05.547365Z"
    }
   },
   "outputs": [
    {
     "name": "stdout",
     "output_type": "stream",
     "text": [
      "<class 'pandas.core.frame.DataFrame'>\n",
      "RangeIndex: 31 entries, 0 to 30\n",
      "Data columns (total 5 columns):\n",
      " #   Column        Non-Null Count  Dtype  \n",
      "---  ------        --------------  -----  \n",
      " 0   city_no       31 non-null     int64  \n",
      " 1   city          31 non-null     object \n",
      " 2   country       31 non-null     object \n",
      " 3   population    31 non-null     int64  \n",
      " 4   area_in_km_2  31 non-null     float64\n",
      "dtypes: float64(1), int64(2), object(2)\n",
      "memory usage: 1.3+ KB\n"
     ]
    }
   ],
   "source": [
    "df_restaurants.info()"
   ]
  },
  {
   "cell_type": "markdown",
   "id": "c25b8464",
   "metadata": {},
   "source": [
    "Now, we will merge df_restaurants dataset with df_dataset."
   ]
  },
  {
   "cell_type": "code",
   "execution_count": 490,
   "id": "abb5af66",
   "metadata": {
    "ExecuteTime": {
     "end_time": "2023-01-10T22:07:05.578049Z",
     "start_time": "2023-01-10T22:07:05.563045Z"
    }
   },
   "outputs": [],
   "source": [
    "df_restaurants.rename(columns={'city': 'capital_city'},\n",
    "          inplace=True, errors='raise')"
   ]
  },
  {
   "cell_type": "code",
   "execution_count": 491,
   "id": "ec9a760f",
   "metadata": {
    "ExecuteTime": {
     "end_time": "2023-01-10T22:07:05.594052Z",
     "start_time": "2023-01-10T22:07:05.580049Z"
    }
   },
   "outputs": [],
   "source": [
    "df_restaurants.drop(columns=\"city_no\", inplace=True)"
   ]
  },
  {
   "cell_type": "code",
   "execution_count": 492,
   "id": "97da5670",
   "metadata": {
    "ExecuteTime": {
     "end_time": "2023-01-10T22:07:05.610056Z",
     "start_time": "2023-01-10T22:07:05.595052Z"
    }
   },
   "outputs": [
    {
     "data": {
      "text/html": [
       "<div>\n",
       "<style scoped>\n",
       "    .dataframe tbody tr th:only-of-type {\n",
       "        vertical-align: middle;\n",
       "    }\n",
       "\n",
       "    .dataframe tbody tr th {\n",
       "        vertical-align: top;\n",
       "    }\n",
       "\n",
       "    .dataframe thead th {\n",
       "        text-align: right;\n",
       "    }\n",
       "</style>\n",
       "<table border=\"1\" class=\"dataframe\">\n",
       "  <thead>\n",
       "    <tr style=\"text-align: right;\">\n",
       "      <th></th>\n",
       "      <th>capital_city</th>\n",
       "      <th>country</th>\n",
       "      <th>population</th>\n",
       "      <th>area_in_km_2</th>\n",
       "    </tr>\n",
       "  </thead>\n",
       "  <tbody>\n",
       "    <tr>\n",
       "      <th>0</th>\n",
       "      <td>Amsterdam</td>\n",
       "      <td>Netherland</td>\n",
       "      <td>851573</td>\n",
       "      <td>219.32</td>\n",
       "    </tr>\n",
       "    <tr>\n",
       "      <th>1</th>\n",
       "      <td>Athens</td>\n",
       "      <td>Greece</td>\n",
       "      <td>664046</td>\n",
       "      <td>2929.00</td>\n",
       "    </tr>\n",
       "    <tr>\n",
       "      <th>2</th>\n",
       "      <td>Barcelona</td>\n",
       "      <td>Spain</td>\n",
       "      <td>1620809</td>\n",
       "      <td>101.40</td>\n",
       "    </tr>\n",
       "    <tr>\n",
       "      <th>3</th>\n",
       "      <td>Berlin</td>\n",
       "      <td>Germany</td>\n",
       "      <td>3711930</td>\n",
       "      <td>891.70</td>\n",
       "    </tr>\n",
       "    <tr>\n",
       "      <th>4</th>\n",
       "      <td>Bratislava</td>\n",
       "      <td>Slovakia</td>\n",
       "      <td>424428</td>\n",
       "      <td>367.60</td>\n",
       "    </tr>\n",
       "  </tbody>\n",
       "</table>\n",
       "</div>"
      ],
      "text/plain": [
       "  capital_city     country  population  area_in_km_2\n",
       "0    Amsterdam  Netherland      851573        219.32\n",
       "1       Athens      Greece      664046       2929.00\n",
       "2    Barcelona       Spain     1620809        101.40\n",
       "3       Berlin     Germany     3711930        891.70\n",
       "4   Bratislava    Slovakia      424428        367.60"
      ]
     },
     "execution_count": 492,
     "metadata": {},
     "output_type": "execute_result"
    }
   ],
   "source": [
    "df_restaurants.head(5)"
   ]
  },
  {
   "cell_type": "code",
   "execution_count": 493,
   "id": "5d0f9dd3",
   "metadata": {
    "ExecuteTime": {
     "end_time": "2023-01-10T22:07:05.625059Z",
     "start_time": "2023-01-10T22:07:05.611056Z"
    }
   },
   "outputs": [
    {
     "data": {
      "text/plain": [
       "(31, 4)"
      ]
     },
     "execution_count": 493,
     "metadata": {},
     "output_type": "execute_result"
    }
   ],
   "source": [
    "df_restaurants.shape"
   ]
  },
  {
   "cell_type": "code",
   "execution_count": 494,
   "id": "4a97f894",
   "metadata": {
    "ExecuteTime": {
     "end_time": "2023-01-10T22:07:05.641063Z",
     "start_time": "2023-01-10T22:07:05.626059Z"
    }
   },
   "outputs": [
    {
     "data": {
      "text/plain": [
       "(1083397, 43)"
      ]
     },
     "execution_count": 494,
     "metadata": {},
     "output_type": "execute_result"
    }
   ],
   "source": [
    "df_dataset.shape"
   ]
  },
  {
   "cell_type": "code",
   "execution_count": 495,
   "id": "2bf9f0c9",
   "metadata": {
    "ExecuteTime": {
     "end_time": "2023-01-10T22:07:08.297881Z",
     "start_time": "2023-01-10T22:07:05.643065Z"
    }
   },
   "outputs": [
    {
     "data": {
      "text/plain": [
       "(1083397, 47)"
      ]
     },
     "execution_count": 495,
     "metadata": {},
     "output_type": "execute_result"
    }
   ],
   "source": [
    "pd.merge(df_dataset, df_restaurants, how=\"left\", left_on=\"city\", right_on=\"capital_city\").shape"
   ]
  },
  {
   "cell_type": "code",
   "execution_count": 496,
   "id": "d22a5669",
   "metadata": {
    "ExecuteTime": {
     "end_time": "2023-01-10T22:07:10.797992Z",
     "start_time": "2023-01-10T22:07:08.299882Z"
    }
   },
   "outputs": [
    {
     "data": {
      "text/html": [
       "<div>\n",
       "<style scoped>\n",
       "    .dataframe tbody tr th:only-of-type {\n",
       "        vertical-align: middle;\n",
       "    }\n",
       "\n",
       "    .dataframe tbody tr th {\n",
       "        vertical-align: top;\n",
       "    }\n",
       "\n",
       "    .dataframe thead th {\n",
       "        text-align: right;\n",
       "    }\n",
       "</style>\n",
       "<table border=\"1\" class=\"dataframe\">\n",
       "  <thead>\n",
       "    <tr style=\"text-align: right;\">\n",
       "      <th></th>\n",
       "      <th>0</th>\n",
       "      <th>1</th>\n",
       "      <th>2</th>\n",
       "    </tr>\n",
       "  </thead>\n",
       "  <tbody>\n",
       "    <tr>\n",
       "      <th>restaurant_link</th>\n",
       "      <td>g10001637-d10002227</td>\n",
       "      <td>g10001637-d14975787</td>\n",
       "      <td>g10002858-d4586832</td>\n",
       "    </tr>\n",
       "    <tr>\n",
       "      <th>restaurant_name</th>\n",
       "      <td>Le 147</td>\n",
       "      <td>Le Saint Jouvent</td>\n",
       "      <td>Au Bout du Pont</td>\n",
       "    </tr>\n",
       "    <tr>\n",
       "      <th>original_location</th>\n",
       "      <td>[\"Europe\", \"France\", \"Nouvelle-Aquitaine\", \"Ha...</td>\n",
       "      <td>[\"Europe\", \"France\", \"Nouvelle-Aquitaine\", \"Ha...</td>\n",
       "      <td>[\"Europe\", \"France\", \"Centre-Val de Loire\", \"B...</td>\n",
       "    </tr>\n",
       "    <tr>\n",
       "      <th>country_x</th>\n",
       "      <td>France</td>\n",
       "      <td>France</td>\n",
       "      <td>France</td>\n",
       "    </tr>\n",
       "    <tr>\n",
       "      <th>region</th>\n",
       "      <td>Nouvelle-Aquitaine</td>\n",
       "      <td>Nouvelle-Aquitaine</td>\n",
       "      <td>Centre-Val de Loire</td>\n",
       "    </tr>\n",
       "    <tr>\n",
       "      <th>province</th>\n",
       "      <td>Haute-Vienne</td>\n",
       "      <td>Haute-Vienne</td>\n",
       "      <td>Berry</td>\n",
       "    </tr>\n",
       "    <tr>\n",
       "      <th>city</th>\n",
       "      <td>Saint-Jouvent</td>\n",
       "      <td>Saint-Jouvent</td>\n",
       "      <td>Rivarennes</td>\n",
       "    </tr>\n",
       "    <tr>\n",
       "      <th>address</th>\n",
       "      <td>10 Maison Neuve, 87510 Saint-Jouvent France</td>\n",
       "      <td>16 Place de l Eglise, 87510 Saint-Jouvent France</td>\n",
       "      <td>2 rue des Dames, 36800 Rivarennes France</td>\n",
       "    </tr>\n",
       "    <tr>\n",
       "      <th>latitude</th>\n",
       "      <td>45.961674</td>\n",
       "      <td>45.95704</td>\n",
       "      <td>46.635895</td>\n",
       "    </tr>\n",
       "    <tr>\n",
       "      <th>longitude</th>\n",
       "      <td>1.169131</td>\n",
       "      <td>1.20548</td>\n",
       "      <td>1.386133</td>\n",
       "    </tr>\n",
       "    <tr>\n",
       "      <th>claimed</th>\n",
       "      <td>Claimed</td>\n",
       "      <td>Unclaimed</td>\n",
       "      <td>Claimed</td>\n",
       "    </tr>\n",
       "    <tr>\n",
       "      <th>awards</th>\n",
       "      <td>NaN</td>\n",
       "      <td>NaN</td>\n",
       "      <td>NaN</td>\n",
       "    </tr>\n",
       "    <tr>\n",
       "      <th>popularity_detailed</th>\n",
       "      <td>#1 of 2 Restaurants in Saint-Jouvent</td>\n",
       "      <td>#2 of 2 Restaurants in Saint-Jouvent</td>\n",
       "      <td>#1 of 1 Restaurant in Rivarennes</td>\n",
       "    </tr>\n",
       "    <tr>\n",
       "      <th>popularity_generic</th>\n",
       "      <td>#1 of 2 places to eat in Saint-Jouvent</td>\n",
       "      <td>#2 of 2 places to eat in Saint-Jouvent</td>\n",
       "      <td>#1 of 1 places to eat in Rivarennes</td>\n",
       "    </tr>\n",
       "    <tr>\n",
       "      <th>top_tags</th>\n",
       "      <td>Cheap Eats, French</td>\n",
       "      <td>Cheap Eats</td>\n",
       "      <td>Cheap Eats, French, European</td>\n",
       "    </tr>\n",
       "    <tr>\n",
       "      <th>price_level</th>\n",
       "      <td>€</td>\n",
       "      <td>€</td>\n",
       "      <td>€</td>\n",
       "    </tr>\n",
       "    <tr>\n",
       "      <th>price_range</th>\n",
       "      <td>NaN</td>\n",
       "      <td>NaN</td>\n",
       "      <td>NaN</td>\n",
       "    </tr>\n",
       "    <tr>\n",
       "      <th>meals</th>\n",
       "      <td>Lunch, Dinner</td>\n",
       "      <td>NaN</td>\n",
       "      <td>Dinner, Lunch, Drinks</td>\n",
       "    </tr>\n",
       "    <tr>\n",
       "      <th>cuisines</th>\n",
       "      <td>French</td>\n",
       "      <td>NaN</td>\n",
       "      <td>French, European</td>\n",
       "    </tr>\n",
       "    <tr>\n",
       "      <th>special_diets</th>\n",
       "      <td>NaN</td>\n",
       "      <td>NaN</td>\n",
       "      <td>NaN</td>\n",
       "    </tr>\n",
       "    <tr>\n",
       "      <th>features</th>\n",
       "      <td>Reservations, Seating, Wheelchair Accessible, ...</td>\n",
       "      <td>NaN</td>\n",
       "      <td>Reservations, Seating, Table Service, Wheelcha...</td>\n",
       "    </tr>\n",
       "    <tr>\n",
       "      <th>vegetarian_friendly</th>\n",
       "      <td>N</td>\n",
       "      <td>N</td>\n",
       "      <td>N</td>\n",
       "    </tr>\n",
       "    <tr>\n",
       "      <th>vegan_options</th>\n",
       "      <td>N</td>\n",
       "      <td>N</td>\n",
       "      <td>N</td>\n",
       "    </tr>\n",
       "    <tr>\n",
       "      <th>gluten_free</th>\n",
       "      <td>N</td>\n",
       "      <td>N</td>\n",
       "      <td>N</td>\n",
       "    </tr>\n",
       "    <tr>\n",
       "      <th>original_open_hours</th>\n",
       "      <td>NaN</td>\n",
       "      <td>NaN</td>\n",
       "      <td>NaN</td>\n",
       "    </tr>\n",
       "    <tr>\n",
       "      <th>open_days_per_week</th>\n",
       "      <td>NaN</td>\n",
       "      <td>NaN</td>\n",
       "      <td>NaN</td>\n",
       "    </tr>\n",
       "    <tr>\n",
       "      <th>open_hours_per_week</th>\n",
       "      <td>NaN</td>\n",
       "      <td>NaN</td>\n",
       "      <td>NaN</td>\n",
       "    </tr>\n",
       "    <tr>\n",
       "      <th>working_shifts_per_week</th>\n",
       "      <td>NaN</td>\n",
       "      <td>NaN</td>\n",
       "      <td>NaN</td>\n",
       "    </tr>\n",
       "    <tr>\n",
       "      <th>avg_rating</th>\n",
       "      <td>4.0</td>\n",
       "      <td>4.0</td>\n",
       "      <td>5.0</td>\n",
       "    </tr>\n",
       "    <tr>\n",
       "      <th>total_reviews_count</th>\n",
       "      <td>36.0</td>\n",
       "      <td>5.0</td>\n",
       "      <td>13.0</td>\n",
       "    </tr>\n",
       "    <tr>\n",
       "      <th>default_language</th>\n",
       "      <td>English</td>\n",
       "      <td>All languages</td>\n",
       "      <td>English</td>\n",
       "    </tr>\n",
       "    <tr>\n",
       "      <th>reviews_count_in_default_language</th>\n",
       "      <td>2.0</td>\n",
       "      <td>5.0</td>\n",
       "      <td>4.0</td>\n",
       "    </tr>\n",
       "    <tr>\n",
       "      <th>excellent</th>\n",
       "      <td>2.0</td>\n",
       "      <td>2.0</td>\n",
       "      <td>3.0</td>\n",
       "    </tr>\n",
       "    <tr>\n",
       "      <th>very_good</th>\n",
       "      <td>0.0</td>\n",
       "      <td>2.0</td>\n",
       "      <td>1.0</td>\n",
       "    </tr>\n",
       "    <tr>\n",
       "      <th>average</th>\n",
       "      <td>0.0</td>\n",
       "      <td>1.0</td>\n",
       "      <td>0.0</td>\n",
       "    </tr>\n",
       "    <tr>\n",
       "      <th>poor</th>\n",
       "      <td>0.0</td>\n",
       "      <td>0.0</td>\n",
       "      <td>0.0</td>\n",
       "    </tr>\n",
       "    <tr>\n",
       "      <th>terrible</th>\n",
       "      <td>0.0</td>\n",
       "      <td>0.0</td>\n",
       "      <td>0.0</td>\n",
       "    </tr>\n",
       "    <tr>\n",
       "      <th>food</th>\n",
       "      <td>4.0</td>\n",
       "      <td>NaN</td>\n",
       "      <td>NaN</td>\n",
       "    </tr>\n",
       "    <tr>\n",
       "      <th>service</th>\n",
       "      <td>4.5</td>\n",
       "      <td>NaN</td>\n",
       "      <td>NaN</td>\n",
       "    </tr>\n",
       "    <tr>\n",
       "      <th>value</th>\n",
       "      <td>4.0</td>\n",
       "      <td>NaN</td>\n",
       "      <td>NaN</td>\n",
       "    </tr>\n",
       "    <tr>\n",
       "      <th>atmosphere</th>\n",
       "      <td>NaN</td>\n",
       "      <td>NaN</td>\n",
       "      <td>NaN</td>\n",
       "    </tr>\n",
       "    <tr>\n",
       "      <th>keywords</th>\n",
       "      <td>NaN</td>\n",
       "      <td>NaN</td>\n",
       "      <td>NaN</td>\n",
       "    </tr>\n",
       "    <tr>\n",
       "      <th>single_cuisine</th>\n",
       "      <td>False</td>\n",
       "      <td>&lt;NA&gt;</td>\n",
       "      <td>&lt;NA&gt;</td>\n",
       "    </tr>\n",
       "    <tr>\n",
       "      <th>capital_city</th>\n",
       "      <td>NaN</td>\n",
       "      <td>NaN</td>\n",
       "      <td>NaN</td>\n",
       "    </tr>\n",
       "    <tr>\n",
       "      <th>country_y</th>\n",
       "      <td>NaN</td>\n",
       "      <td>NaN</td>\n",
       "      <td>NaN</td>\n",
       "    </tr>\n",
       "    <tr>\n",
       "      <th>population</th>\n",
       "      <td>NaN</td>\n",
       "      <td>NaN</td>\n",
       "      <td>NaN</td>\n",
       "    </tr>\n",
       "    <tr>\n",
       "      <th>area_in_km_2</th>\n",
       "      <td>NaN</td>\n",
       "      <td>NaN</td>\n",
       "      <td>NaN</td>\n",
       "    </tr>\n",
       "  </tbody>\n",
       "</table>\n",
       "</div>"
      ],
      "text/plain": [
       "                                                                                   0  \\\n",
       "restaurant_link                                                  g10001637-d10002227   \n",
       "restaurant_name                                                               Le 147   \n",
       "original_location                  [\"Europe\", \"France\", \"Nouvelle-Aquitaine\", \"Ha...   \n",
       "country_x                                                                     France   \n",
       "region                                                            Nouvelle-Aquitaine   \n",
       "province                                                                Haute-Vienne   \n",
       "city                                                                   Saint-Jouvent   \n",
       "address                                  10 Maison Neuve, 87510 Saint-Jouvent France   \n",
       "latitude                                                                   45.961674   \n",
       "longitude                                                                   1.169131   \n",
       "claimed                                                                      Claimed   \n",
       "awards                                                                           NaN   \n",
       "popularity_detailed                             #1 of 2 Restaurants in Saint-Jouvent   \n",
       "popularity_generic                            #1 of 2 places to eat in Saint-Jouvent   \n",
       "top_tags                                                          Cheap Eats, French   \n",
       "price_level                                                                        €   \n",
       "price_range                                                                      NaN   \n",
       "meals                                                                  Lunch, Dinner   \n",
       "cuisines                                                                      French   \n",
       "special_diets                                                                    NaN   \n",
       "features                           Reservations, Seating, Wheelchair Accessible, ...   \n",
       "vegetarian_friendly                                                                N   \n",
       "vegan_options                                                                      N   \n",
       "gluten_free                                                                        N   \n",
       "original_open_hours                                                              NaN   \n",
       "open_days_per_week                                                               NaN   \n",
       "open_hours_per_week                                                              NaN   \n",
       "working_shifts_per_week                                                          NaN   \n",
       "avg_rating                                                                       4.0   \n",
       "total_reviews_count                                                             36.0   \n",
       "default_language                                                             English   \n",
       "reviews_count_in_default_language                                                2.0   \n",
       "excellent                                                                        2.0   \n",
       "very_good                                                                        0.0   \n",
       "average                                                                          0.0   \n",
       "poor                                                                             0.0   \n",
       "terrible                                                                         0.0   \n",
       "food                                                                             4.0   \n",
       "service                                                                          4.5   \n",
       "value                                                                            4.0   \n",
       "atmosphere                                                                       NaN   \n",
       "keywords                                                                         NaN   \n",
       "single_cuisine                                                                 False   \n",
       "capital_city                                                                     NaN   \n",
       "country_y                                                                        NaN   \n",
       "population                                                                       NaN   \n",
       "area_in_km_2                                                                     NaN   \n",
       "\n",
       "                                                                                   1  \\\n",
       "restaurant_link                                                  g10001637-d14975787   \n",
       "restaurant_name                                                     Le Saint Jouvent   \n",
       "original_location                  [\"Europe\", \"France\", \"Nouvelle-Aquitaine\", \"Ha...   \n",
       "country_x                                                                     France   \n",
       "region                                                            Nouvelle-Aquitaine   \n",
       "province                                                                Haute-Vienne   \n",
       "city                                                                   Saint-Jouvent   \n",
       "address                             16 Place de l Eglise, 87510 Saint-Jouvent France   \n",
       "latitude                                                                    45.95704   \n",
       "longitude                                                                    1.20548   \n",
       "claimed                                                                    Unclaimed   \n",
       "awards                                                                           NaN   \n",
       "popularity_detailed                             #2 of 2 Restaurants in Saint-Jouvent   \n",
       "popularity_generic                            #2 of 2 places to eat in Saint-Jouvent   \n",
       "top_tags                                                                  Cheap Eats   \n",
       "price_level                                                                        €   \n",
       "price_range                                                                      NaN   \n",
       "meals                                                                            NaN   \n",
       "cuisines                                                                         NaN   \n",
       "special_diets                                                                    NaN   \n",
       "features                                                                         NaN   \n",
       "vegetarian_friendly                                                                N   \n",
       "vegan_options                                                                      N   \n",
       "gluten_free                                                                        N   \n",
       "original_open_hours                                                              NaN   \n",
       "open_days_per_week                                                               NaN   \n",
       "open_hours_per_week                                                              NaN   \n",
       "working_shifts_per_week                                                          NaN   \n",
       "avg_rating                                                                       4.0   \n",
       "total_reviews_count                                                              5.0   \n",
       "default_language                                                       All languages   \n",
       "reviews_count_in_default_language                                                5.0   \n",
       "excellent                                                                        2.0   \n",
       "very_good                                                                        2.0   \n",
       "average                                                                          1.0   \n",
       "poor                                                                             0.0   \n",
       "terrible                                                                         0.0   \n",
       "food                                                                             NaN   \n",
       "service                                                                          NaN   \n",
       "value                                                                            NaN   \n",
       "atmosphere                                                                       NaN   \n",
       "keywords                                                                         NaN   \n",
       "single_cuisine                                                                  <NA>   \n",
       "capital_city                                                                     NaN   \n",
       "country_y                                                                        NaN   \n",
       "population                                                                       NaN   \n",
       "area_in_km_2                                                                     NaN   \n",
       "\n",
       "                                                                                   2  \n",
       "restaurant_link                                                   g10002858-d4586832  \n",
       "restaurant_name                                                      Au Bout du Pont  \n",
       "original_location                  [\"Europe\", \"France\", \"Centre-Val de Loire\", \"B...  \n",
       "country_x                                                                     France  \n",
       "region                                                           Centre-Val de Loire  \n",
       "province                                                                       Berry  \n",
       "city                                                                      Rivarennes  \n",
       "address                                     2 rue des Dames, 36800 Rivarennes France  \n",
       "latitude                                                                   46.635895  \n",
       "longitude                                                                   1.386133  \n",
       "claimed                                                                      Claimed  \n",
       "awards                                                                           NaN  \n",
       "popularity_detailed                                 #1 of 1 Restaurant in Rivarennes  \n",
       "popularity_generic                               #1 of 1 places to eat in Rivarennes  \n",
       "top_tags                                                Cheap Eats, French, European  \n",
       "price_level                                                                        €  \n",
       "price_range                                                                      NaN  \n",
       "meals                                                          Dinner, Lunch, Drinks  \n",
       "cuisines                                                            French, European  \n",
       "special_diets                                                                    NaN  \n",
       "features                           Reservations, Seating, Table Service, Wheelcha...  \n",
       "vegetarian_friendly                                                                N  \n",
       "vegan_options                                                                      N  \n",
       "gluten_free                                                                        N  \n",
       "original_open_hours                                                              NaN  \n",
       "open_days_per_week                                                               NaN  \n",
       "open_hours_per_week                                                              NaN  \n",
       "working_shifts_per_week                                                          NaN  \n",
       "avg_rating                                                                       5.0  \n",
       "total_reviews_count                                                             13.0  \n",
       "default_language                                                             English  \n",
       "reviews_count_in_default_language                                                4.0  \n",
       "excellent                                                                        3.0  \n",
       "very_good                                                                        1.0  \n",
       "average                                                                          0.0  \n",
       "poor                                                                             0.0  \n",
       "terrible                                                                         0.0  \n",
       "food                                                                             NaN  \n",
       "service                                                                          NaN  \n",
       "value                                                                            NaN  \n",
       "atmosphere                                                                       NaN  \n",
       "keywords                                                                         NaN  \n",
       "single_cuisine                                                                  <NA>  \n",
       "capital_city                                                                     NaN  \n",
       "country_y                                                                        NaN  \n",
       "population                                                                       NaN  \n",
       "area_in_km_2                                                                     NaN  "
      ]
     },
     "execution_count": 496,
     "metadata": {},
     "output_type": "execute_result"
    }
   ],
   "source": [
    "df = pd.merge(df_dataset, df_restaurants, how=\"left\", left_on=\"city\", right_on=\"capital_city\")\n",
    "df.head(3).T"
   ]
  },
  {
   "cell_type": "code",
   "execution_count": 509,
   "id": "d85e0fb9",
   "metadata": {
    "ExecuteTime": {
     "end_time": "2023-01-10T22:16:27.617264Z",
     "start_time": "2023-01-10T22:16:27.337202Z"
    }
   },
   "outputs": [
    {
     "data": {
      "text/html": [
       "<div>\n",
       "<style scoped>\n",
       "    .dataframe tbody tr th:only-of-type {\n",
       "        vertical-align: middle;\n",
       "    }\n",
       "\n",
       "    .dataframe tbody tr th {\n",
       "        vertical-align: top;\n",
       "    }\n",
       "\n",
       "    .dataframe thead th {\n",
       "        text-align: right;\n",
       "    }\n",
       "</style>\n",
       "<table border=\"1\" class=\"dataframe\">\n",
       "  <thead>\n",
       "    <tr style=\"text-align: right;\">\n",
       "      <th></th>\n",
       "      <th>capital_city</th>\n",
       "      <th>number_of_restaurants</th>\n",
       "    </tr>\n",
       "  </thead>\n",
       "  <tbody>\n",
       "    <tr>\n",
       "      <th>0</th>\n",
       "      <td>Amsterdam</td>\n",
       "      <td>607</td>\n",
       "    </tr>\n",
       "    <tr>\n",
       "      <th>1</th>\n",
       "      <td>Athens</td>\n",
       "      <td>270</td>\n",
       "    </tr>\n",
       "    <tr>\n",
       "      <th>2</th>\n",
       "      <td>Bratislava</td>\n",
       "      <td>66</td>\n",
       "    </tr>\n",
       "    <tr>\n",
       "      <th>3</th>\n",
       "      <td>Budapest</td>\n",
       "      <td>430</td>\n",
       "    </tr>\n",
       "    <tr>\n",
       "      <th>4</th>\n",
       "      <td>Copenhagen</td>\n",
       "      <td>245</td>\n",
       "    </tr>\n",
       "    <tr>\n",
       "      <th>5</th>\n",
       "      <td>Dublin</td>\n",
       "      <td>582</td>\n",
       "    </tr>\n",
       "    <tr>\n",
       "      <th>6</th>\n",
       "      <td>Helsinki</td>\n",
       "      <td>199</td>\n",
       "    </tr>\n",
       "    <tr>\n",
       "      <th>7</th>\n",
       "      <td>Lisbon</td>\n",
       "      <td>537</td>\n",
       "    </tr>\n",
       "    <tr>\n",
       "      <th>8</th>\n",
       "      <td>Lyon</td>\n",
       "      <td>54</td>\n",
       "    </tr>\n",
       "    <tr>\n",
       "      <th>9</th>\n",
       "      <td>Madrid</td>\n",
       "      <td>1359</td>\n",
       "    </tr>\n",
       "    <tr>\n",
       "      <th>10</th>\n",
       "      <td>Milan</td>\n",
       "      <td>1134</td>\n",
       "    </tr>\n",
       "    <tr>\n",
       "      <th>11</th>\n",
       "      <td>Munich</td>\n",
       "      <td>253</td>\n",
       "    </tr>\n",
       "    <tr>\n",
       "      <th>12</th>\n",
       "      <td>Paris</td>\n",
       "      <td>564</td>\n",
       "    </tr>\n",
       "    <tr>\n",
       "      <th>13</th>\n",
       "      <td>Prague</td>\n",
       "      <td>388</td>\n",
       "    </tr>\n",
       "    <tr>\n",
       "      <th>14</th>\n",
       "      <td>Rome</td>\n",
       "      <td>1641</td>\n",
       "    </tr>\n",
       "    <tr>\n",
       "      <th>15</th>\n",
       "      <td>Stockholm</td>\n",
       "      <td>361</td>\n",
       "    </tr>\n",
       "    <tr>\n",
       "      <th>16</th>\n",
       "      <td>Vienna</td>\n",
       "      <td>406</td>\n",
       "    </tr>\n",
       "  </tbody>\n",
       "</table>\n",
       "</div>"
      ],
      "text/plain": [
       "   capital_city  number_of_restaurants\n",
       "0     Amsterdam                    607\n",
       "1        Athens                    270\n",
       "2    Bratislava                     66\n",
       "3      Budapest                    430\n",
       "4    Copenhagen                    245\n",
       "5        Dublin                    582\n",
       "6      Helsinki                    199\n",
       "7        Lisbon                    537\n",
       "8          Lyon                     54\n",
       "9        Madrid                   1359\n",
       "10        Milan                   1134\n",
       "11       Munich                    253\n",
       "12        Paris                    564\n",
       "13       Prague                    388\n",
       "14         Rome                   1641\n",
       "15    Stockholm                    361\n",
       "16       Vienna                    406"
      ]
     },
     "execution_count": 509,
     "metadata": {},
     "output_type": "execute_result"
    }
   ],
   "source": [
    "number_of_gluten_free_restaurants = df[df[\"gluten_free\"]==\"Y\"].groupby(\"capital_city\")[\"restaurant_name\"].nunique().to_frame(name=\"number_of_restaurants\").reset_index()\n",
    "number_of_gluten_free_restaurants"
   ]
  },
  {
   "cell_type": "code",
   "execution_count": 510,
   "id": "36e82045",
   "metadata": {
    "ExecuteTime": {
     "end_time": "2023-01-10T22:16:33.832555Z",
     "start_time": "2023-01-10T22:16:33.824553Z"
    }
   },
   "outputs": [],
   "source": [
    "capital_city_population = df_restaurants[df_restaurants.capital_city.isin(number_of_gluten_free_restaurants.capital_city)][[\"capital_city\",\"population\"]]\n",
    "capital_city_population.reset_index(drop=True, inplace=True)"
   ]
  },
  {
   "cell_type": "code",
   "execution_count": 511,
   "id": "5a7a9d43",
   "metadata": {
    "ExecuteTime": {
     "end_time": "2023-01-10T22:16:35.665612Z",
     "start_time": "2023-01-10T22:16:35.647608Z"
    }
   },
   "outputs": [
    {
     "data": {
      "text/html": [
       "<div>\n",
       "<style scoped>\n",
       "    .dataframe tbody tr th:only-of-type {\n",
       "        vertical-align: middle;\n",
       "    }\n",
       "\n",
       "    .dataframe tbody tr th {\n",
       "        vertical-align: top;\n",
       "    }\n",
       "\n",
       "    .dataframe thead th {\n",
       "        text-align: right;\n",
       "    }\n",
       "</style>\n",
       "<table border=\"1\" class=\"dataframe\">\n",
       "  <thead>\n",
       "    <tr style=\"text-align: right;\">\n",
       "      <th></th>\n",
       "      <th>capital_city</th>\n",
       "      <th>population</th>\n",
       "    </tr>\n",
       "  </thead>\n",
       "  <tbody>\n",
       "    <tr>\n",
       "      <th>0</th>\n",
       "      <td>Amsterdam</td>\n",
       "      <td>851573</td>\n",
       "    </tr>\n",
       "    <tr>\n",
       "      <th>1</th>\n",
       "      <td>Athens</td>\n",
       "      <td>664046</td>\n",
       "    </tr>\n",
       "    <tr>\n",
       "      <th>2</th>\n",
       "      <td>Bratislava</td>\n",
       "      <td>424428</td>\n",
       "    </tr>\n",
       "    <tr>\n",
       "      <th>3</th>\n",
       "      <td>Budapest</td>\n",
       "      <td>1779361</td>\n",
       "    </tr>\n",
       "    <tr>\n",
       "      <th>4</th>\n",
       "      <td>Copenhagen</td>\n",
       "      <td>602481</td>\n",
       "    </tr>\n",
       "    <tr>\n",
       "      <th>5</th>\n",
       "      <td>Dublin</td>\n",
       "      <td>527612</td>\n",
       "    </tr>\n",
       "    <tr>\n",
       "      <th>6</th>\n",
       "      <td>Helsinki</td>\n",
       "      <td>631695</td>\n",
       "    </tr>\n",
       "    <tr>\n",
       "      <th>7</th>\n",
       "      <td>Lisbon</td>\n",
       "      <td>504718</td>\n",
       "    </tr>\n",
       "    <tr>\n",
       "      <th>8</th>\n",
       "      <td>Lyon</td>\n",
       "      <td>506615</td>\n",
       "    </tr>\n",
       "    <tr>\n",
       "      <th>9</th>\n",
       "      <td>Madrid</td>\n",
       "      <td>3141991</td>\n",
       "    </tr>\n",
       "    <tr>\n",
       "      <th>10</th>\n",
       "      <td>Milan</td>\n",
       "      <td>1370074</td>\n",
       "    </tr>\n",
       "    <tr>\n",
       "      <th>11</th>\n",
       "      <td>Munich</td>\n",
       "      <td>1456039</td>\n",
       "    </tr>\n",
       "    <tr>\n",
       "      <th>12</th>\n",
       "      <td>Paris</td>\n",
       "      <td>2206488</td>\n",
       "    </tr>\n",
       "    <tr>\n",
       "      <th>13</th>\n",
       "      <td>Prague</td>\n",
       "      <td>1301132</td>\n",
       "    </tr>\n",
       "    <tr>\n",
       "      <th>14</th>\n",
       "      <td>Rome</td>\n",
       "      <td>2868782</td>\n",
       "    </tr>\n",
       "    <tr>\n",
       "      <th>15</th>\n",
       "      <td>Stockholm</td>\n",
       "      <td>952058</td>\n",
       "    </tr>\n",
       "    <tr>\n",
       "      <th>16</th>\n",
       "      <td>Vienna</td>\n",
       "      <td>1889083</td>\n",
       "    </tr>\n",
       "  </tbody>\n",
       "</table>\n",
       "</div>"
      ],
      "text/plain": [
       "   capital_city  population\n",
       "0     Amsterdam      851573\n",
       "1        Athens      664046\n",
       "2    Bratislava      424428\n",
       "3      Budapest     1779361\n",
       "4    Copenhagen      602481\n",
       "5        Dublin      527612\n",
       "6      Helsinki      631695\n",
       "7        Lisbon      504718\n",
       "8          Lyon      506615\n",
       "9        Madrid     3141991\n",
       "10        Milan     1370074\n",
       "11       Munich     1456039\n",
       "12        Paris     2206488\n",
       "13       Prague     1301132\n",
       "14         Rome     2868782\n",
       "15    Stockholm      952058\n",
       "16       Vienna     1889083"
      ]
     },
     "execution_count": 511,
     "metadata": {},
     "output_type": "execute_result"
    }
   ],
   "source": [
    "capital_city_population"
   ]
  },
  {
   "cell_type": "code",
   "execution_count": 512,
   "id": "0a61665f",
   "metadata": {
    "ExecuteTime": {
     "end_time": "2023-01-10T22:16:37.772954Z",
     "start_time": "2023-01-10T22:16:37.759952Z"
    }
   },
   "outputs": [
    {
     "data": {
      "text/html": [
       "<div>\n",
       "<style scoped>\n",
       "    .dataframe tbody tr th:only-of-type {\n",
       "        vertical-align: middle;\n",
       "    }\n",
       "\n",
       "    .dataframe tbody tr th {\n",
       "        vertical-align: top;\n",
       "    }\n",
       "\n",
       "    .dataframe thead th {\n",
       "        text-align: right;\n",
       "    }\n",
       "</style>\n",
       "<table border=\"1\" class=\"dataframe\">\n",
       "  <thead>\n",
       "    <tr style=\"text-align: right;\">\n",
       "      <th></th>\n",
       "      <th>capital_city</th>\n",
       "      <th>population</th>\n",
       "      <th>number_of_restaurants</th>\n",
       "    </tr>\n",
       "  </thead>\n",
       "  <tbody>\n",
       "    <tr>\n",
       "      <th>0</th>\n",
       "      <td>Amsterdam</td>\n",
       "      <td>851573</td>\n",
       "      <td>607</td>\n",
       "    </tr>\n",
       "    <tr>\n",
       "      <th>1</th>\n",
       "      <td>Athens</td>\n",
       "      <td>664046</td>\n",
       "      <td>270</td>\n",
       "    </tr>\n",
       "    <tr>\n",
       "      <th>2</th>\n",
       "      <td>Bratislava</td>\n",
       "      <td>424428</td>\n",
       "      <td>66</td>\n",
       "    </tr>\n",
       "    <tr>\n",
       "      <th>3</th>\n",
       "      <td>Budapest</td>\n",
       "      <td>1779361</td>\n",
       "      <td>430</td>\n",
       "    </tr>\n",
       "    <tr>\n",
       "      <th>4</th>\n",
       "      <td>Copenhagen</td>\n",
       "      <td>602481</td>\n",
       "      <td>245</td>\n",
       "    </tr>\n",
       "    <tr>\n",
       "      <th>5</th>\n",
       "      <td>Dublin</td>\n",
       "      <td>527612</td>\n",
       "      <td>582</td>\n",
       "    </tr>\n",
       "    <tr>\n",
       "      <th>6</th>\n",
       "      <td>Helsinki</td>\n",
       "      <td>631695</td>\n",
       "      <td>199</td>\n",
       "    </tr>\n",
       "    <tr>\n",
       "      <th>7</th>\n",
       "      <td>Lisbon</td>\n",
       "      <td>504718</td>\n",
       "      <td>537</td>\n",
       "    </tr>\n",
       "    <tr>\n",
       "      <th>8</th>\n",
       "      <td>Lyon</td>\n",
       "      <td>506615</td>\n",
       "      <td>54</td>\n",
       "    </tr>\n",
       "    <tr>\n",
       "      <th>9</th>\n",
       "      <td>Madrid</td>\n",
       "      <td>3141991</td>\n",
       "      <td>1359</td>\n",
       "    </tr>\n",
       "    <tr>\n",
       "      <th>10</th>\n",
       "      <td>Milan</td>\n",
       "      <td>1370074</td>\n",
       "      <td>1134</td>\n",
       "    </tr>\n",
       "    <tr>\n",
       "      <th>11</th>\n",
       "      <td>Munich</td>\n",
       "      <td>1456039</td>\n",
       "      <td>253</td>\n",
       "    </tr>\n",
       "    <tr>\n",
       "      <th>12</th>\n",
       "      <td>Paris</td>\n",
       "      <td>2206488</td>\n",
       "      <td>564</td>\n",
       "    </tr>\n",
       "    <tr>\n",
       "      <th>13</th>\n",
       "      <td>Prague</td>\n",
       "      <td>1301132</td>\n",
       "      <td>388</td>\n",
       "    </tr>\n",
       "    <tr>\n",
       "      <th>14</th>\n",
       "      <td>Rome</td>\n",
       "      <td>2868782</td>\n",
       "      <td>1641</td>\n",
       "    </tr>\n",
       "    <tr>\n",
       "      <th>15</th>\n",
       "      <td>Stockholm</td>\n",
       "      <td>952058</td>\n",
       "      <td>361</td>\n",
       "    </tr>\n",
       "    <tr>\n",
       "      <th>16</th>\n",
       "      <td>Vienna</td>\n",
       "      <td>1889083</td>\n",
       "      <td>406</td>\n",
       "    </tr>\n",
       "  </tbody>\n",
       "</table>\n",
       "</div>"
      ],
      "text/plain": [
       "   capital_city  population  number_of_restaurants\n",
       "0     Amsterdam      851573                    607\n",
       "1        Athens      664046                    270\n",
       "2    Bratislava      424428                     66\n",
       "3      Budapest     1779361                    430\n",
       "4    Copenhagen      602481                    245\n",
       "5        Dublin      527612                    582\n",
       "6      Helsinki      631695                    199\n",
       "7        Lisbon      504718                    537\n",
       "8          Lyon      506615                     54\n",
       "9        Madrid     3141991                   1359\n",
       "10        Milan     1370074                   1134\n",
       "11       Munich     1456039                    253\n",
       "12        Paris     2206488                    564\n",
       "13       Prague     1301132                    388\n",
       "14         Rome     2868782                   1641\n",
       "15    Stockholm      952058                    361\n",
       "16       Vienna     1889083                    406"
      ]
     },
     "execution_count": 512,
     "metadata": {},
     "output_type": "execute_result"
    }
   ],
   "source": [
    "df_population_density = pd.merge(capital_city_population, number_of_gluten_free_restaurants, on=\"capital_city\")\n",
    "df_population_density"
   ]
  },
  {
   "cell_type": "code",
   "execution_count": 517,
   "id": "b48b1bf8",
   "metadata": {
    "ExecuteTime": {
     "end_time": "2023-01-10T22:19:22.767372Z",
     "start_time": "2023-01-10T22:19:22.756370Z"
    }
   },
   "outputs": [
    {
     "data": {
      "text/html": [
       "<div>\n",
       "<style scoped>\n",
       "    .dataframe tbody tr th:only-of-type {\n",
       "        vertical-align: middle;\n",
       "    }\n",
       "\n",
       "    .dataframe tbody tr th {\n",
       "        vertical-align: top;\n",
       "    }\n",
       "\n",
       "    .dataframe thead th {\n",
       "        text-align: right;\n",
       "    }\n",
       "</style>\n",
       "<table border=\"1\" class=\"dataframe\">\n",
       "  <thead>\n",
       "    <tr style=\"text-align: right;\">\n",
       "      <th></th>\n",
       "      <th>capital_city</th>\n",
       "      <th>population</th>\n",
       "      <th>number_of_restaurants</th>\n",
       "      <th>gluten_free_restaurant_density</th>\n",
       "    </tr>\n",
       "  </thead>\n",
       "  <tbody>\n",
       "    <tr>\n",
       "      <th>5</th>\n",
       "      <td>Dublin</td>\n",
       "      <td>527612</td>\n",
       "      <td>582</td>\n",
       "      <td>110.308333</td>\n",
       "    </tr>\n",
       "    <tr>\n",
       "      <th>7</th>\n",
       "      <td>Lisbon</td>\n",
       "      <td>504718</td>\n",
       "      <td>537</td>\n",
       "      <td>106.396047</td>\n",
       "    </tr>\n",
       "    <tr>\n",
       "      <th>10</th>\n",
       "      <td>Milan</td>\n",
       "      <td>1370074</td>\n",
       "      <td>1134</td>\n",
       "      <td>82.769252</td>\n",
       "    </tr>\n",
       "    <tr>\n",
       "      <th>0</th>\n",
       "      <td>Amsterdam</td>\n",
       "      <td>851573</td>\n",
       "      <td>607</td>\n",
       "      <td>71.279855</td>\n",
       "    </tr>\n",
       "    <tr>\n",
       "      <th>14</th>\n",
       "      <td>Rome</td>\n",
       "      <td>2868782</td>\n",
       "      <td>1641</td>\n",
       "      <td>57.201976</td>\n",
       "    </tr>\n",
       "  </tbody>\n",
       "</table>\n",
       "</div>"
      ],
      "text/plain": [
       "   capital_city  population  number_of_restaurants  \\\n",
       "5        Dublin      527612                    582   \n",
       "7        Lisbon      504718                    537   \n",
       "10        Milan     1370074                   1134   \n",
       "0     Amsterdam      851573                    607   \n",
       "14         Rome     2868782                   1641   \n",
       "\n",
       "    gluten_free_restaurant_density  \n",
       "5                       110.308333  \n",
       "7                       106.396047  \n",
       "10                       82.769252  \n",
       "0                        71.279855  \n",
       "14                       57.201976  "
      ]
     },
     "execution_count": 517,
     "metadata": {},
     "output_type": "execute_result"
    }
   ],
   "source": [
    "df_population_density[\"gluten_free_restaurant_density\"] = 100000 * df_population_density[\"number_of_restaurants\"] / df_population_density[\"population\"]\n",
    "df_population_density.sort_values(by=\"gluten_free_restaurant_density\", ascending=False).head(5)"
   ]
  },
  {
   "cell_type": "markdown",
   "id": "7387b98c",
   "metadata": {},
   "source": [
    "**The above list is the top 5 gluten-free restaurant places among the European capitals.**"
   ]
  },
  {
   "cell_type": "code",
   "execution_count": null,
   "id": "30b7a8a4",
   "metadata": {},
   "outputs": [],
   "source": []
  },
  {
   "cell_type": "markdown",
   "id": "754e56a6",
   "metadata": {},
   "source": [
    "#### Think and propose a couple of other ways this dataset could be used to help businesses."
   ]
  },
  {
   "cell_type": "code",
   "execution_count": null,
   "id": "1e490ee4",
   "metadata": {},
   "outputs": [],
   "source": []
  },
  {
   "cell_type": "code",
   "execution_count": null,
   "id": "8bebb1f7",
   "metadata": {},
   "outputs": [],
   "source": []
  },
  {
   "cell_type": "markdown",
   "id": "3816010d",
   "metadata": {},
   "source": [
    "### Bonus"
   ]
  },
  {
   "cell_type": "markdown",
   "id": "2695af2d",
   "metadata": {},
   "source": [
    "#### In the assets directory, you will see a file called paris_bounding_polygon.json. This contains a list of latitude and longitude coordinates that define a polygon that is considered to represent the Paris city area. For simplicity, we assume the population distribution is uniform in the Paris city area. An Italian restaurant wants to open a restaurant in Paris in a zone where there are the fewest Italian restaurants. What is the best location to open the restaurant (the answer can be a single point or a bounding box/polygonal region depending on the implementation)?\n"
   ]
  },
  {
   "cell_type": "code",
   "execution_count": 524,
   "id": "a8e63a58",
   "metadata": {
    "ExecuteTime": {
     "end_time": "2023-01-10T22:26:30.711091Z",
     "start_time": "2023-01-10T22:26:30.686086Z"
    }
   },
   "outputs": [
    {
     "data": {
      "text/html": [
       "<div>\n",
       "<style scoped>\n",
       "    .dataframe tbody tr th:only-of-type {\n",
       "        vertical-align: middle;\n",
       "    }\n",
       "\n",
       "    .dataframe tbody tr th {\n",
       "        vertical-align: top;\n",
       "    }\n",
       "\n",
       "    .dataframe thead th {\n",
       "        text-align: right;\n",
       "    }\n",
       "</style>\n",
       "<table border=\"1\" class=\"dataframe\">\n",
       "  <thead>\n",
       "    <tr style=\"text-align: right;\">\n",
       "      <th></th>\n",
       "      <th>0</th>\n",
       "      <th>1</th>\n",
       "    </tr>\n",
       "  </thead>\n",
       "  <tbody>\n",
       "    <tr>\n",
       "      <th>0</th>\n",
       "      <td>2.224169</td>\n",
       "      <td>48.853442</td>\n",
       "    </tr>\n",
       "    <tr>\n",
       "      <th>1</th>\n",
       "      <td>2.224161</td>\n",
       "      <td>48.853478</td>\n",
       "    </tr>\n",
       "    <tr>\n",
       "      <th>2</th>\n",
       "      <td>2.224143</td>\n",
       "      <td>48.853578</td>\n",
       "    </tr>\n",
       "    <tr>\n",
       "      <th>3</th>\n",
       "      <td>2.224135</td>\n",
       "      <td>48.853654</td>\n",
       "    </tr>\n",
       "    <tr>\n",
       "      <th>4</th>\n",
       "      <td>2.224129</td>\n",
       "      <td>48.853759</td>\n",
       "    </tr>\n",
       "    <tr>\n",
       "      <th>...</th>\n",
       "      <td>...</td>\n",
       "      <td>...</td>\n",
       "    </tr>\n",
       "    <tr>\n",
       "      <th>914</th>\n",
       "      <td>2.238144</td>\n",
       "      <td>48.850367</td>\n",
       "    </tr>\n",
       "    <tr>\n",
       "      <th>915</th>\n",
       "      <td>2.237800</td>\n",
       "      <td>48.850440</td>\n",
       "    </tr>\n",
       "    <tr>\n",
       "      <th>916</th>\n",
       "      <td>2.226361</td>\n",
       "      <td>48.852959</td>\n",
       "    </tr>\n",
       "    <tr>\n",
       "      <th>917</th>\n",
       "      <td>2.225560</td>\n",
       "      <td>48.853136</td>\n",
       "    </tr>\n",
       "    <tr>\n",
       "      <th>918</th>\n",
       "      <td>2.224169</td>\n",
       "      <td>48.853442</td>\n",
       "    </tr>\n",
       "  </tbody>\n",
       "</table>\n",
       "<p>919 rows × 2 columns</p>\n",
       "</div>"
      ],
      "text/plain": [
       "            0          1\n",
       "0    2.224169  48.853442\n",
       "1    2.224161  48.853478\n",
       "2    2.224143  48.853578\n",
       "3    2.224135  48.853654\n",
       "4    2.224129  48.853759\n",
       "..        ...        ...\n",
       "914  2.238144  48.850367\n",
       "915  2.237800  48.850440\n",
       "916  2.226361  48.852959\n",
       "917  2.225560  48.853136\n",
       "918  2.224169  48.853442\n",
       "\n",
       "[919 rows x 2 columns]"
      ]
     },
     "execution_count": 524,
     "metadata": {},
     "output_type": "execute_result"
    }
   ],
   "source": [
    "df = pd.read_json(\"paris_bounding_polygon.json\")\n",
    "df"
   ]
  },
  {
   "cell_type": "markdown",
   "id": "208d1598",
   "metadata": {
    "ExecuteTime": {
     "end_time": "2023-01-10T22:26:39.665465Z",
     "start_time": "2023-01-10T22:26:39.661464Z"
    }
   },
   "source": []
  },
  {
   "cell_type": "markdown",
   "id": "3ec66f9d",
   "metadata": {
    "ExecuteTime": {
     "end_time": "2023-01-10T22:24:50.751609Z",
     "start_time": "2023-01-10T22:24:50.723603Z"
    }
   },
   "source": [
    "WE HAD A HOSPITAL EMERGENCY TODAY. THEREFORE, BY THE TIME I HAVE BEGUN WORKING ON THE FILE THERE WAS NOT MUCH TIME LEFT. UNFORTUNATELY, TOMORROW I WILL HAVE TO BE AT THE HOSPITAL AS WELL AND I WILL NOT BE ABLE TO CONTINUE TO ANSWER THE BONUS QUESTION. \n",
    "\n",
    "REGARDS,\n",
    "\n",
    "OSMAN DOLU"
   ]
  },
  {
   "cell_type": "markdown",
   "id": "1f05698c",
   "metadata": {},
   "source": []
  }
 ],
 "metadata": {
  "kernelspec": {
   "display_name": "Python 3 (ipykernel)",
   "language": "python",
   "name": "python3"
  },
  "language_info": {
   "codemirror_mode": {
    "name": "ipython",
    "version": 3
   },
   "file_extension": ".py",
   "mimetype": "text/x-python",
   "name": "python",
   "nbconvert_exporter": "python",
   "pygments_lexer": "ipython3",
   "version": "3.9.13"
  },
  "toc": {
   "base_numbering": 1,
   "nav_menu": {},
   "number_sections": true,
   "sideBar": true,
   "skip_h1_title": false,
   "title_cell": "Table of Contents",
   "title_sidebar": "Contents",
   "toc_cell": false,
   "toc_position": {
    "height": "calc(100% - 180px)",
    "left": "10px",
    "top": "150px",
    "width": "472.475px"
   },
   "toc_section_display": true,
   "toc_window_display": true
  }
 },
 "nbformat": 4,
 "nbformat_minor": 5
}
